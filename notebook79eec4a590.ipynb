{
  "metadata": {
    "accelerator": "GPU",
    "colab": {
      "gpuType": "T4",
      "provenance": [],
      "name": "notebook79eec4a590",
      "include_colab_link": true
    },
    "kernelspec": {
      "name": "python3",
      "display_name": "Python 3"
    },
    "language_info": {
      "name": "python",
      "version": "3.10.14",
      "mimetype": "text/x-python",
      "codemirror_mode": {
        "name": "ipython",
        "version": 3
      },
      "pygments_lexer": "ipython3",
      "nbconvert_exporter": "python",
      "file_extension": ".py"
    },
    "kaggle": {
      "accelerator": "none",
      "dataSources": [],
      "dockerImageVersionId": 30761,
      "isInternetEnabled": false,
      "language": "python",
      "sourceType": "notebook",
      "isGpuEnabled": false
    }
  },
  "nbformat_minor": 0,
  "nbformat": 4,
  "cells": [
    {
      "cell_type": "markdown",
      "metadata": {
        "id": "view-in-github",
        "colab_type": "text"
      },
      "source": [
        "<a href=\"https://colab.research.google.com/github/Yhilosoghy/yuangao.github.io/blob/main/notebook79eec4a590.ipynb\" target=\"_parent\"><img src=\"https://colab.research.google.com/assets/colab-badge.svg\" alt=\"Open In Colab\"/></a>"
      ]
    },
    {
      "cell_type": "code",
      "source": [
        "#@title Your Info { display-mode: \"form\" }\n",
        "\n",
        "Name = '' #@param {type:\"string\"}"
      ],
      "metadata": {
        "id": "sjvfsNTAtbO5",
        "execution": {
          "iopub.status.busy": "2024-09-09T22:16:11.634254Z",
          "iopub.execute_input": "2024-09-09T22:16:11.635218Z",
          "iopub.status.idle": "2024-09-09T22:16:11.66883Z",
          "shell.execute_reply.started": "2024-09-09T22:16:11.635163Z",
          "shell.execute_reply": "2024-09-09T22:16:11.66765Z"
        },
        "trusted": true
      },
      "execution_count": 205,
      "outputs": []
    },
    {
      "cell_type": "markdown",
      "source": [
        "# DataRes Research Coding Assessment\n",
        "\n",
        "## Due by 11:59pm, April 5\n",
        "\n",
        "Thanks for taking the time to apply to the research team at DataRes! This assessment consists of handful of machine learning exercises that use PyTorch. If you aren't familiar with this library, there's lots of helpful documentation [here](https://pytorch.org/docs/stable/index.html), and **I highly recommend reading it thoroughly if you get stuck** to make sure you're passing correct types/dimensions into the arguments. Lots of code has already been written for you, just make sure to complete sections marked \"TODO:\" or \"Your Implementations\". There are a number of challenging problems to work on, so if you have any questions, please feel free to reach out to [Larry](mailto:larrylu0302@g.ucla.edu) at any time! Lastly, please feel free to submit the assessment even if you can't finish it all, I will take the time to look at every application I recieve.\n",
        "\n",
        "Make sure to submit this completed assessment by 11:59pm, April 5. Submissions will be turned in by emailing this notebook as an .ipynb and the .json with your model's results (more on this below) to me.\n",
        "\n",
        "Good luck!"
      ],
      "metadata": {
        "id": "n8tKmOactZMi"
      }
    },
    {
      "cell_type": "markdown",
      "source": [
        "### Before you begin\n",
        "\n",
        "Here are some things to keep in mind:\n",
        "\n",
        "* Everything should be done using the PyTorch library\n",
        "* Reading documentation can be very helpful if you're stuck\n",
        "* If you're really struggling on a section, send me an email and move on to another one in the meantime\n",
        "* Currently, the trainings are initialized to default epochs. Colab is about half as fast as Kaggle, so depending on which one you're using, you can change the number of epochs so training doesn't take forever (~10 minutes is good)\n",
        "* Sometimes you may get an error about the GPU/CUDA. If this happens, try changing the variables by adding this line: x = x.to('cuda') and restarting"
      ],
      "metadata": {
        "id": "AFiKOp8Yz1w7"
      }
    },
    {
      "cell_type": "markdown",
      "source": [
        "### Overview\n",
        "\n",
        "In this assessment, you will be working with the [MiniPlaces dataset](https://github.com/CSAILVision/miniplaces), a dataset of scene images (10+ million images) with a wide variety of real-world environments (400+ unique scene categories). The MiniPlaces dataset is a subset of the [Places2 dataset](http://places2.csail.mit.edu/) and contains 100,000 images for training, 10,000 images for validation, and 10,000 images for testing, each of which has been annotated with one of 100 different scene categories. These images are divided into three folders: train, val, and test.\n",
        "\n",
        "Question 1 will use only some categories of this dataset. We've called this new dataset TinyPlaces. Questions 2-4 will use MiniPlaces (all subcategories).\n",
        "\n",
        "You will be completing machine learning exercises in which you will train models using this dataset. These exercises touch on the following topics:\n",
        "\n",
        "\n",
        "*   Linear, Logistic, and Softmax Regression\n",
        "*   Multi-Layer Perceptrons\n",
        "*   Convolutional Neural Networks (CNNs)\n",
        "\n",
        "Don't worry about having to deal with preprocessing the data... we've already written code to do that for you! Just run the cell below.\n",
        "\n"
      ],
      "metadata": {
        "id": "JKyyP0O8tvbW"
      }
    },
    {
      "cell_type": "code",
      "source": [
        "import os\n",
        "path = './'\n",
        "os.makedirs(os.path.join(path, 'DataRes_Research_Assessment', 'data'), exist_ok=True)\n",
        "root_dir = os.path.join(path, 'DataRes_Research_Assessment')\n",
        "\n",
        "\n",
        "#!pip3 install --upgrade gdown --quiet\n",
        "!gdown 1z3B1GR7UtHZGrqNjUaep6thHwrN3IYSI\n",
        "\n",
        "import tarfile\n",
        "from tqdm import tqdm\n",
        "\n",
        "tar = tarfile.open(\"data.tar.gz\", \"r:gz\")\n",
        "total_size = sum(f.size for f in tar.getmembers())\n",
        "with tqdm(total=total_size, unit=\"B\", unit_scale=True, desc=\"Extracting tar.gz file\") as pbar:\n",
        "    for member in tar.getmembers():\n",
        "        tar.extract(member, os.path.join(root_dir, 'data'))\n",
        "        pbar.update(member.size)\n",
        "tar.close()\n",
        "\n",
        "import urllib.request\n",
        "\n",
        "import os\n",
        "import pickle\n",
        "\n",
        "import numpy as np\n",
        "\n",
        "def load_subcategories(txt_path):\n",
        "    subcategories = {}\n",
        "    file = open(txt_path, 'r')\n",
        "    lines = file.readlines()\n",
        "    for i, l in enumerate(lines):\n",
        "        info = l.split()\n",
        "        info[0] = info[0][3:]\n",
        "        subcategories.update({info[0]: {'ori_class_id': int(info[1]), 'class_id': i}})\n",
        "\n",
        "    return subcategories\n",
        "\n",
        "\n",
        "from tqdm import trange\n",
        "import cv2\n",
        "import random\n",
        "\n",
        "def select_samples(subcategories, root_dir, split, n_images_per_subcategory):\n",
        "    samples = []\n",
        "    if split == \"train\":\n",
        "        train_dir = os.path.join(root_dir, \"data\", \"images\", \"train\")\n",
        "        for i in subcategories:\n",
        "            child_dir = os.path.join(train_dir, i[0], i)\n",
        "            pics = random.sample(os.listdir(child_dir), n_images_per_subcategory)\n",
        "            for j in pics:\n",
        "                samples.append((cv2.resize(cv2.imread(os.path.join(child_dir, j)), (32,32)).flatten().tolist(), subcategories[i][\"class_id\"]))\n",
        "    elif split == \"val\":\n",
        "        val_dir = os.path.join(root_dir, \"data\", \"images\")\n",
        "        file = open(os.path.join(root_dir, \"data\", \"val.txt\"), 'r')\n",
        "        lines = file.readlines()\n",
        "        val_data = []\n",
        "        for i in lines:\n",
        "            val_data.append(i.split())\n",
        "        random.shuffle(val_data)\n",
        "        for i in subcategories:\n",
        "            old_id = subcategories[i][\"ori_class_id\"]\n",
        "            count = 0\n",
        "            for j in val_data:\n",
        "                if int(j[1]) == old_id:\n",
        "                    samples.append((cv2.resize(cv2.imread(os.path.join(val_dir, j[0])), (32,32)).flatten().tolist(), subcategories[i][\"class_id\"]))\n",
        "                    count += 1\n",
        "                if count >= n_images_per_subcategory:\n",
        "                    break\n",
        "    return samples\n",
        "\n",
        "def create_tinyplaces(samples, binary=True):\n",
        "    data, labels = [], []\n",
        "    for i in samples:\n",
        "        data.append(i[0])\n",
        "        if binary:\n",
        "            if i[1] >= 10:\n",
        "                labels.append(1)\n",
        "            else:\n",
        "                labels.append(0)\n",
        "        else:\n",
        "            labels.append(i[1])\n",
        "    data = np.array(data)\n",
        "    labels = np.array(labels)\n",
        "    dataset = {\"data\": data, \"label\": labels}\n",
        "\n",
        "    return dataset\n",
        "\n",
        "\n",
        "# Set the root directory of the dataset\n",
        "root_dir = './DataRes_Research_Assessment/data'\n",
        "\n",
        "# Load the target subcategories and their class IDs\n",
        "subcategories = load_subcategories(os.path.join(root_dir, 'data', 'categories_tinyplaces.txt'))\n",
        "\n",
        "# Select the samples from the train split of the TinyPlaces dataset\n",
        "train_samples = select_samples(subcategories, root_dir, 'train', 500)\n",
        "\n",
        "# Create the TinyPlaces datasets for binary and multiclass classification\n",
        "tinyplaces_binary_train = create_tinyplaces(train_samples, binary=True)\n",
        "tinyplaces_multi_train = create_tinyplaces(train_samples, binary=False)\n",
        "\n",
        "# Select the samples from the val split of the MiniPlaces dataset\n",
        "val_samples = select_samples(subcategories, root_dir, 'val', 50)\n",
        "\n",
        "# Create the TinyPlaces datasets for binary and multiclass classification\n",
        "tinyplaces_binary_val = create_tinyplaces(val_samples, binary=True)\n",
        "tinyplaces_multi_val = create_tinyplaces(val_samples, binary=False)\n",
        "\n",
        "# Save the TinyPlaces datasets to the data directory\n",
        "data_dir = os.path.join(root_dir, 'data')\n",
        "\n",
        "\n",
        "with open(os.path.join(data_dir, 'tinyplaces_binary_train.pkl'), 'wb') as f:\n",
        "    pickle.dump(tinyplaces_binary_train, f)\n",
        "\n",
        "with open(os.path.join(data_dir, 'tinyplaces_multi_train.pkl'), 'wb') as f:\n",
        "    pickle.dump(tinyplaces_multi_train, f)\n",
        "\n",
        "with open(os.path.join(data_dir, 'tinyplaces_binary_val.pkl'), 'wb') as f:\n",
        "    pickle.dump(tinyplaces_binary_val, f)\n",
        "\n",
        "with open(os.path.join(data_dir, 'tinyplaces_multi_val.pkl'), 'wb') as f:\n",
        "    pickle.dump(tinyplaces_multi_val, f)\n",
        "\n",
        "\n",
        "class TinyPlacesDataset(object):\n",
        "    def __init__(self, data_dict):\n",
        "        self.dataset = data_dict\n",
        "        self.num_samples = len(data_dict['data'])\n",
        "\n",
        "    def subsample(self, ratio=0.1, seed=None):\n",
        "        if seed is not None:\n",
        "            np.random.seed(seed)\n",
        "\n",
        "        nums = random.sample(range(self.num_samples), int(ratio * self.num_samples))\n",
        "        sub_dataset = {'data': self.dataset['data'][nums], 'label': self.dataset['label'][nums]}\n",
        "        subsampled_dataset = TinyPlacesDataset(sub_dataset)\n",
        "\n",
        "        return subsampled_dataset"
      ],
      "metadata": {
        "_cell_guid": "b1076dfc-b9ad-4769-8c92-a6c4dae69d19",
        "_uuid": "8f2839f25d086af736a60e9eeb907d3b93b6e0e5",
        "id": "gyAwMa4aS2iP",
        "execution": {
          "iopub.status.busy": "2024-09-09T22:16:23.455978Z",
          "iopub.execute_input": "2024-09-09T22:16:23.456475Z",
          "iopub.status.idle": "2024-09-09T22:18:56.135205Z",
          "shell.execute_reply.started": "2024-09-09T22:16:23.456429Z",
          "shell.execute_reply": "2024-09-09T22:18:56.133503Z"
        },
        "trusted": true,
        "colab": {
          "base_uri": "https://localhost:8080/"
        },
        "outputId": "b4e19ea4-a81b-4984-d263-942c47a99e9f"
      },
      "execution_count": 206,
      "outputs": [
        {
          "output_type": "stream",
          "name": "stdout",
          "text": [
            "Downloading...\n",
            "From (original): https://drive.google.com/uc?id=1z3B1GR7UtHZGrqNjUaep6thHwrN3IYSI\n",
            "From (redirected): https://drive.google.com/uc?id=1z3B1GR7UtHZGrqNjUaep6thHwrN3IYSI&confirm=t&uuid=6cf41175-39a2-498c-8b86-1341627006db\n",
            "To: /content/data.tar.gz\n",
            "100% 423M/423M [00:01<00:00, 219MB/s]\n"
          ]
        },
        {
          "output_type": "stream",
          "name": "stderr",
          "text": [
            "Extracting tar.gz file: 100%|██████████| 526M/526M [00:22<00:00, 23.2MB/s]\n"
          ]
        }
      ]
    },
    {
      "cell_type": "markdown",
      "source": [
        "## GPU\n",
        "\n",
        "You will train your models using the GPU, which enables parallel processing and is vital for training deep learning models.\n",
        "\n",
        "If you're using Colab, go to:\n",
        "Runtime -> Change Runtime Type -> Hardware Accelerator -> GPU\n",
        "\n",
        "If you're using Kaggle, go to: More Settings (the three dots) -> Accelerator -> GPU P100"
      ],
      "metadata": {
        "id": "EGBMfhsBt1VP"
      }
    },
    {
      "cell_type": "code",
      "source": [
        "import torch\n",
        "\n",
        "device = torch.device('cuda' if torch.cuda.is_available() else 'cpu')\n",
        "\n",
        "if device == torch.device('cuda'):\n",
        "    print(f'Using device: {device}. Good to go!')\n",
        "else:\n",
        "    print('Please set GPU via Edit -> Notebook Settings.')"
      ],
      "metadata": {
        "id": "LOGvGDrFS2iQ",
        "colab": {
          "base_uri": "https://localhost:8080/"
        },
        "outputId": "61fc636b-0623-40d5-f8b1-2cdd5b31d5ff"
      },
      "execution_count": 207,
      "outputs": [
        {
          "output_type": "stream",
          "name": "stdout",
          "text": [
            "Using device: cuda. Good to go!\n"
          ]
        }
      ]
    },
    {
      "cell_type": "code",
      "source": [
        "# This line of code gives you info about GPU\n",
        "! nvidia-smi"
      ],
      "metadata": {
        "id": "htAi7fg4S2iR",
        "colab": {
          "base_uri": "https://localhost:8080/"
        },
        "outputId": "3d7cc534-6156-40e8-c338-2dd0023edb27"
      },
      "execution_count": 208,
      "outputs": [
        {
          "output_type": "stream",
          "name": "stdout",
          "text": [
            "Tue Sep 10 03:15:54 2024       \n",
            "+---------------------------------------------------------------------------------------+\n",
            "| NVIDIA-SMI 535.104.05             Driver Version: 535.104.05   CUDA Version: 12.2     |\n",
            "|-----------------------------------------+----------------------+----------------------+\n",
            "| GPU  Name                 Persistence-M | Bus-Id        Disp.A | Volatile Uncorr. ECC |\n",
            "| Fan  Temp   Perf          Pwr:Usage/Cap |         Memory-Usage | GPU-Util  Compute M. |\n",
            "|                                         |                      |               MIG M. |\n",
            "|=========================================+======================+======================|\n",
            "|   0  Tesla T4                       Off | 00000000:00:04.0 Off |                    0 |\n",
            "| N/A   74C    P0              34W /  70W |   3591MiB / 15360MiB |      0%      Default |\n",
            "|                                         |                      |                  N/A |\n",
            "+-----------------------------------------+----------------------+----------------------+\n",
            "                                                                                         \n",
            "+---------------------------------------------------------------------------------------+\n",
            "| Processes:                                                                            |\n",
            "|  GPU   GI   CI        PID   Type   Process name                            GPU Memory |\n",
            "|        ID   ID                                                             Usage      |\n",
            "|=======================================================================================|\n",
            "+---------------------------------------------------------------------------------------+\n"
          ]
        }
      ]
    },
    {
      "cell_type": "code",
      "source": [
        "with open(os.path.join(root_dir, 'data', 'tinyplaces_binary_train.pkl'), 'rb') as f:\n",
        "    binary_train = TinyPlacesDataset(pickle.load(f))\n",
        "with open(os.path.join(root_dir, 'data', 'tinyplaces_binary_val.pkl'), 'rb') as f:\n",
        "    binary_val = TinyPlacesDataset(pickle.load(f))\n",
        "with open(os.path.join(root_dir, 'data', 'tinyplaces_multi_train.pkl'), 'rb') as f:\n",
        "    multi_train = TinyPlacesDataset(pickle.load(f))\n",
        "with open(os.path.join(root_dir, 'data', 'tinyplaces_multi_val.pkl'), 'rb') as f:\n",
        "    multi_val = TinyPlacesDataset(pickle.load(f))\n",
        "\n",
        "# Convert everything from numpy arrays to tensors and move them to the GPU using .cuda()\n",
        "for dataset in [binary_train, binary_val, multi_train, multi_val]:\n",
        "    for k in ['data', 'label']:\n",
        "        dataset.dataset[k] = torch.tensor(dataset.dataset[k]).float().cuda()"
      ],
      "metadata": {
        "id": "-5SQxfd4S2iR"
      },
      "execution_count": 209,
      "outputs": []
    },
    {
      "cell_type": "code",
      "source": [
        "from tqdm import tqdm"
      ],
      "metadata": {
        "id": "oNfvvZQZS2iR"
      },
      "execution_count": 210,
      "outputs": []
    },
    {
      "cell_type": "markdown",
      "source": [
        "## Q1 Regressions"
      ],
      "metadata": {
        "id": "J2m2FeWIubFA"
      }
    },
    {
      "cell_type": "markdown",
      "source": [
        "### Linear Regression\n",
        "\n",
        "Below, you will implement linear regression. You'll need to use PyTorch to initialize the parameters and implement the linear function and mean squared error.\n",
        "\n",
        "If the prediction score > 0.5, we consider the image to be of outdoor category. Otherwise, we consider it to be indoor category."
      ],
      "metadata": {
        "id": "uHWtYYNxubsA"
      }
    },
    {
      "cell_type": "code",
      "source": [
        "class LinearRegression(object):\n",
        "    def __init__(self, input_size, output_size):\n",
        "        \"\"\"\n",
        "          Initialize the weights and biases using zeros distribution\n",
        "\n",
        "          Parameters:\n",
        "              input_size (int): The input size (dimension of feature vectors)\n",
        "              output_size (int): The output size (dimension of output logits)\n",
        "\n",
        "          Returns:\n",
        "              None.\n",
        "        \"\"\"\n",
        "        # Initialize the weights and biases using zeros\n",
        "        # Make sure your tensors keep track of their gradient\n",
        "        # Move the parameters to GPU (cuda)\n",
        "        ################# Your Implementations #################################\n",
        "        self.W = torch.zeros(input_size, output_size, requires_grad=True)\n",
        "        self.b = torch.zeros(output_size, requires_grad=True)\n",
        "\n",
        "\n",
        "        ################# End of your Implementations ##########################\n",
        "\n",
        "    def linear(self, x):\n",
        "        ################# Your Implementations #################################\n",
        "        output = torch.matmul(x.float().to(self.W.device), self.W) + self.b.to(self.W.device)\n",
        "\n",
        "\n",
        "        ################# End of your Implementations ##########################\n",
        "        return output\n",
        "\n",
        "    def forward(self, x):\n",
        "        # To make the output shape compact.\n",
        "        return self.linear(x).squeeze()\n",
        "\n",
        "    def get_loss(self, pred_logits, targets):\n",
        "        # Calculate the mean squared error between the predicted labels and the ground-truth labels\n",
        "        loss = None\n",
        "        ################# Your Implementations #################################\n",
        "        loss = torch.mean((pred_logits - targets.to(pred_logits.device)) ** 2)\n",
        "\n",
        "\n",
        "        ################# End of your Implementations ##########################\n",
        "        return loss\n",
        "\n",
        "    def fit(self, x, y, x_val, y_val, lr, epochs=5000, print_freq=1000):\n",
        "        # Fit the linear regression model to the training data using gradient descent\n",
        "        # x is the input data, y is the ground-truth labels\n",
        "        # lr is the learning rate, epochs is the number of epochs\n",
        "\n",
        "        # To store validation accuracy\n",
        "        val_accs = []\n",
        "        # Create a progress bar using tqdm\n",
        "        pbar = tqdm(range(epochs))\n",
        "        for epoch in pbar:\n",
        "            # Calculate the loss\n",
        "            y_pred_logits = self.forward(x)\n",
        "            loss = self.get_loss(y_pred_logits, y)\n",
        "            # Backpropagate the loss to compute the gradients\n",
        "            loss.backward()\n",
        "            # Update the weights and biases using gradient descent\n",
        "            with torch.no_grad():\n",
        "                self.W -= lr * self.W.grad\n",
        "                self.b -= lr * self.b.grad\n",
        "                # Reset the gradients\n",
        "                self.W.grad.zero_()\n",
        "                self.b.grad.zero_()\n",
        "\n",
        "            if epoch % print_freq == 0:\n",
        "                # Calculate the validation accuracy\n",
        "                val_acc = self.evaluate(x_val, y_val)\n",
        "                val_accs.append(val_acc)\n",
        "                # Update the progress bar with the validation accuracy and training loss\n",
        "                pbar.set_description(f'val_acc: {val_acc:.3f}')\n",
        "        return val_accs\n",
        "\n",
        "    def evaluate(self, x, y):\n",
        "        # Evaluate the performance of the linear regression model on the dataset\n",
        "        # x is the input data, y is the ground-truth labels\n",
        "        # Calculate the predicted labels\n",
        "        # Calculate the predicted labels y_pred\n",
        "        y_pred = (self.forward(x.to(self.W.device)) > 0.5)\n",
        "\n",
        "        # Move y to the same device as y_pred\n",
        "        y = y.to(y_pred.device)\n",
        "\n",
        "        return (y_pred == y).float().mean().item()"
      ],
      "metadata": {
        "id": "FmoaFZKIS2iR"
      },
      "execution_count": 211,
      "outputs": []
    },
    {
      "cell_type": "code",
      "source": [
        "def normalize(x):\n",
        "    # We can simply divide x by 255 since its range is (0,255)\n",
        "    return x / 255."
      ],
      "metadata": {
        "id": "Mizc7tkcS2iR"
      },
      "execution_count": 212,
      "outputs": []
    },
    {
      "cell_type": "code",
      "source": [
        "# Here \"ori\" indicates \"original\"\n",
        "X_train_ori, y_train = binary_train.dataset['data'], binary_train.dataset['label']\n",
        "X_val_ori, y_val = binary_val.dataset['data'], binary_val.dataset['label']\n",
        "\n",
        "# Normalization\n",
        "X_train = normalize(X_train_ori)\n",
        "X_val = normalize(X_val_ori)"
      ],
      "metadata": {
        "id": "1G_UZ_zwS2iR"
      },
      "execution_count": 213,
      "outputs": []
    },
    {
      "cell_type": "markdown",
      "source": [
        "Use the next 3 cells to debug. The next cell should give an accuracy of 0.5 since we're using zeros-initialization."
      ],
      "metadata": {
        "id": "pW0B-W58uilG"
      }
    },
    {
      "cell_type": "code",
      "source": [
        "linear_model = LinearRegression(3072, 1)\n",
        "train_acc = linear_model.evaluate(X_train.double(), y_train)\n",
        "val_acc = linear_model.evaluate(X_val.double(), y_val)\n",
        "print('train accuracy:', train_acc)\n",
        "print('val accuracy:', val_acc)"
      ],
      "metadata": {
        "id": "J_l1H9tYS2iS",
        "colab": {
          "base_uri": "https://localhost:8080/"
        },
        "outputId": "ccd48154-d8e8-49dd-bc88-6f485bb1f1a9"
      },
      "execution_count": 214,
      "outputs": [
        {
          "output_type": "stream",
          "name": "stdout",
          "text": [
            "train accuracy: 0.5\n",
            "val accuracy: 0.5\n"
          ]
        }
      ]
    },
    {
      "cell_type": "code",
      "source": [
        "# Try to debug using this cell\n",
        "linear_model = LinearRegression(3072, 1)\n",
        "# We refer the raw outputs from a model to as \"logits\",\n",
        "# i.e., we haven't transformed the results to binary labels.\n",
        "y_pred_logits = linear_model.forward(X_train.double())\n",
        "loss = linear_model.get_loss(y_pred_logits, y_train)\n",
        "print(\"loss:\", loss.item())"
      ],
      "metadata": {
        "id": "BsgSuKsoS2iS",
        "colab": {
          "base_uri": "https://localhost:8080/"
        },
        "outputId": "ec50962a-1bdd-4c7b-ddf2-a59889658cee"
      },
      "execution_count": 215,
      "outputs": [
        {
          "output_type": "stream",
          "name": "stdout",
          "text": [
            "loss: 0.5\n"
          ]
        }
      ]
    },
    {
      "cell_type": "code",
      "source": [
        "# compute gradients\n",
        "loss.backward()\n",
        "\n",
        "# check the gradients\n",
        "print(linear_model.W.grad)\n",
        "print(linear_model.b.grad)"
      ],
      "metadata": {
        "id": "GIOgOnd5S2iS",
        "colab": {
          "base_uri": "https://localhost:8080/"
        },
        "outputId": "94bca094-b64d-4529-8120-909ed3c9e4a5"
      },
      "execution_count": 216,
      "outputs": [
        {
          "output_type": "stream",
          "name": "stdout",
          "text": [
            "tensor([[-0.5339],\n",
            "        [-0.5053],\n",
            "        [-0.4569],\n",
            "        ...,\n",
            "        [-0.2995],\n",
            "        [-0.3518],\n",
            "        [-0.3620]])\n",
            "tensor([-1.0000])\n"
          ]
        }
      ]
    },
    {
      "cell_type": "markdown",
      "source": [
        "Great, you've fully implemented the linear regression model! Let's train it."
      ],
      "metadata": {
        "id": "cUFTLarxulrd"
      }
    },
    {
      "cell_type": "code",
      "source": [
        "linear_model = LinearRegression(3072, 1)\n",
        "# It may be helpful to change the number of epochs to a very small number while debugging\n",
        "# For your final submission, you can change the epochs so that training doesn't take forever (~10 minutes is good)\n",
        "lin_val_accs = linear_model.fit(X_train.double().cuda(), y_train, X_val.double().cuda(), y_val, 1e-4, 5000, 1000)"
      ],
      "metadata": {
        "id": "W3VjCJZuS2iS",
        "colab": {
          "base_uri": "https://localhost:8080/"
        },
        "outputId": "f9a53ed7-e984-455d-8eb6-3df8bbf8ebb7"
      },
      "execution_count": 217,
      "outputs": [
        {
          "output_type": "stream",
          "name": "stderr",
          "text": [
            "val_acc: 0.743: 100%|██████████| 5000/5000 [10:25<00:00,  7.99it/s]\n"
          ]
        }
      ]
    },
    {
      "cell_type": "markdown",
      "source": [
        "### Logistic Regression\n",
        "\n",
        "Logistic regression is very similar to linear regression, but the sigmoid function is added to the forward pass and cross-entropy is used for loss. Here's the formulas:\n",
        "\n",
        "Sigmoid:\n",
        "\n",
        "$$\\frac{1}{1+e^{-x}}$$\n",
        "\n",
        "Cross-Entropy Loss:\n",
        "\n",
        "$$\\mathrm{CE_Loss}(p, y) = -{(y\\log(p) + (1-y)\\log(1-p))}$$\n",
        "\n",
        "Implement them below!"
      ],
      "metadata": {
        "id": "0-Ax-AdvuqKT"
      }
    },
    {
      "cell_type": "code",
      "source": [
        "def sigmoid(x):\n",
        "    ################# Your Implementations #################################\n",
        "    output = 1 / (1 + torch.exp(-x))\n",
        "\n",
        "\n",
        "    ################# End of your Implementations ##########################\n",
        "    return output\n",
        "\n",
        "\n",
        "def cross_entropy_loss(p, y):\n",
        "    ################# Your Implementations #################################\n",
        "    p = torch.clamp(p, min=1e-10, max=1 - 1e-10)\n",
        "    output = - (y.to(p.device) * torch.log(p) + (1 - y.to(p.device)) * torch.log(1 - p))\n",
        "    output = output.mean()\n",
        "\n",
        "\n",
        "    ################# End of your Implementations ##########################\n",
        "    return output"
      ],
      "metadata": {
        "id": "GfIt43g3S2iS"
      },
      "execution_count": 218,
      "outputs": []
    },
    {
      "cell_type": "markdown",
      "source": [
        "Use these implementations below to implement the Logistic Regression model."
      ],
      "metadata": {
        "id": "JLA5YsCIusxo"
      }
    },
    {
      "cell_type": "code",
      "source": [
        "class LogisticRegression(LinearRegression):\n",
        "    def __init__(self, input_size, output_size):\n",
        "        super(LogisticRegression, self).__init__(input_size, output_size)\n",
        "\n",
        "    def forward(self, x):\n",
        "        # Apply the sigmoid function to the linear output\n",
        "        ################# Your Implementations #################################\n",
        "        output = sigmoid(self.linear(x))\n",
        "\n",
        "\n",
        "        ################# End of your Implementations ##########################\n",
        "        return output\n",
        "\n",
        "    def get_loss(self, pred_logits, targets):\n",
        "        # Calculate the cross-entropy loss\n",
        "        ################# Your Implementations #################################\n",
        "        loss = cross_entropy_loss(pred_logits, targets)\n",
        "\n",
        "\n",
        "        ################# End of your Implementations ##########################\n",
        "        return loss"
      ],
      "metadata": {
        "id": "Wzjx1WhRS2iS"
      },
      "execution_count": 219,
      "outputs": []
    },
    {
      "cell_type": "markdown",
      "source": [
        "Train!"
      ],
      "metadata": {
        "id": "nmTKJwhouusX"
      }
    },
    {
      "cell_type": "code",
      "source": [
        "logistic_model = LogisticRegression(3072, 1)\n",
        "# Again, you can change the epochs so that training doesn't take forever (~10 minutes is good)\n",
        "logi_val_accs = logistic_model.fit(X_train.double(), y_train, X_val.double(), y_val, 1e-4, 5000, 1000)"
      ],
      "metadata": {
        "id": "VAVLfWMgS2iS",
        "colab": {
          "base_uri": "https://localhost:8080/",
          "height": 347
        },
        "outputId": "7b6c20cc-ab3b-47b1-de77-52b3836d57fc"
      },
      "execution_count": 221,
      "outputs": [
        {
          "output_type": "stream",
          "name": "stderr",
          "text": [
            "val_acc: 0.500:   0%|          | 9/5000 [00:24<3:49:28,  2.76s/it]\n"
          ]
        },
        {
          "output_type": "error",
          "ename": "KeyboardInterrupt",
          "evalue": "",
          "traceback": [
            "\u001b[0;31m---------------------------------------------------------------------------\u001b[0m",
            "\u001b[0;31mKeyboardInterrupt\u001b[0m                         Traceback (most recent call last)",
            "\u001b[0;32m<ipython-input-221-c09bd0d60254>\u001b[0m in \u001b[0;36m<cell line: 3>\u001b[0;34m()\u001b[0m\n\u001b[1;32m      1\u001b[0m \u001b[0mlogistic_model\u001b[0m \u001b[0;34m=\u001b[0m \u001b[0mLogisticRegression\u001b[0m\u001b[0;34m(\u001b[0m\u001b[0;36m3072\u001b[0m\u001b[0;34m,\u001b[0m \u001b[0;36m1\u001b[0m\u001b[0;34m)\u001b[0m\u001b[0;34m\u001b[0m\u001b[0;34m\u001b[0m\u001b[0m\n\u001b[1;32m      2\u001b[0m \u001b[0;31m# Again, you can change the epochs so that training doesn't take forever (~10 minutes is good)\u001b[0m\u001b[0;34m\u001b[0m\u001b[0;34m\u001b[0m\u001b[0m\n\u001b[0;32m----> 3\u001b[0;31m \u001b[0mlogi_val_accs\u001b[0m \u001b[0;34m=\u001b[0m \u001b[0mlogistic_model\u001b[0m\u001b[0;34m.\u001b[0m\u001b[0mfit\u001b[0m\u001b[0;34m(\u001b[0m\u001b[0mX_train\u001b[0m\u001b[0;34m.\u001b[0m\u001b[0mdouble\u001b[0m\u001b[0;34m(\u001b[0m\u001b[0;34m)\u001b[0m\u001b[0;34m,\u001b[0m \u001b[0my_train\u001b[0m\u001b[0;34m,\u001b[0m \u001b[0mX_val\u001b[0m\u001b[0;34m.\u001b[0m\u001b[0mdouble\u001b[0m\u001b[0;34m(\u001b[0m\u001b[0;34m)\u001b[0m\u001b[0;34m,\u001b[0m \u001b[0my_val\u001b[0m\u001b[0;34m,\u001b[0m \u001b[0;36m1e-4\u001b[0m\u001b[0;34m,\u001b[0m \u001b[0;36m5000\u001b[0m\u001b[0;34m,\u001b[0m \u001b[0;36m1000\u001b[0m\u001b[0;34m)\u001b[0m\u001b[0;34m\u001b[0m\u001b[0;34m\u001b[0m\u001b[0m\n\u001b[0m",
            "\u001b[0;32m<ipython-input-211-8fd0ea1ad031>\u001b[0m in \u001b[0;36mfit\u001b[0;34m(self, x, y, x_val, y_val, lr, epochs, print_freq)\u001b[0m\n\u001b[1;32m     57\u001b[0m             \u001b[0mloss\u001b[0m \u001b[0;34m=\u001b[0m \u001b[0mself\u001b[0m\u001b[0;34m.\u001b[0m\u001b[0mget_loss\u001b[0m\u001b[0;34m(\u001b[0m\u001b[0my_pred_logits\u001b[0m\u001b[0;34m,\u001b[0m \u001b[0my\u001b[0m\u001b[0;34m)\u001b[0m\u001b[0;34m\u001b[0m\u001b[0;34m\u001b[0m\u001b[0m\n\u001b[1;32m     58\u001b[0m             \u001b[0;31m# Backpropagate the loss to compute the gradients\u001b[0m\u001b[0;34m\u001b[0m\u001b[0;34m\u001b[0m\u001b[0m\n\u001b[0;32m---> 59\u001b[0;31m             \u001b[0mloss\u001b[0m\u001b[0;34m.\u001b[0m\u001b[0mbackward\u001b[0m\u001b[0;34m(\u001b[0m\u001b[0;34m)\u001b[0m\u001b[0;34m\u001b[0m\u001b[0;34m\u001b[0m\u001b[0m\n\u001b[0m\u001b[1;32m     60\u001b[0m             \u001b[0;31m# Update the weights and biases using gradient descent\u001b[0m\u001b[0;34m\u001b[0m\u001b[0;34m\u001b[0m\u001b[0m\n\u001b[1;32m     61\u001b[0m             \u001b[0;32mwith\u001b[0m \u001b[0mtorch\u001b[0m\u001b[0;34m.\u001b[0m\u001b[0mno_grad\u001b[0m\u001b[0;34m(\u001b[0m\u001b[0;34m)\u001b[0m\u001b[0;34m:\u001b[0m\u001b[0;34m\u001b[0m\u001b[0;34m\u001b[0m\u001b[0m\n",
            "\u001b[0;32m/usr/local/lib/python3.10/dist-packages/torch/_tensor.py\u001b[0m in \u001b[0;36mbackward\u001b[0;34m(self, gradient, retain_graph, create_graph, inputs)\u001b[0m\n\u001b[1;32m    519\u001b[0m                 \u001b[0minputs\u001b[0m\u001b[0;34m=\u001b[0m\u001b[0minputs\u001b[0m\u001b[0;34m,\u001b[0m\u001b[0;34m\u001b[0m\u001b[0;34m\u001b[0m\u001b[0m\n\u001b[1;32m    520\u001b[0m             )\n\u001b[0;32m--> 521\u001b[0;31m         torch.autograd.backward(\n\u001b[0m\u001b[1;32m    522\u001b[0m             \u001b[0mself\u001b[0m\u001b[0;34m,\u001b[0m \u001b[0mgradient\u001b[0m\u001b[0;34m,\u001b[0m \u001b[0mretain_graph\u001b[0m\u001b[0;34m,\u001b[0m \u001b[0mcreate_graph\u001b[0m\u001b[0;34m,\u001b[0m \u001b[0minputs\u001b[0m\u001b[0;34m=\u001b[0m\u001b[0minputs\u001b[0m\u001b[0;34m\u001b[0m\u001b[0;34m\u001b[0m\u001b[0m\n\u001b[1;32m    523\u001b[0m         )\n",
            "\u001b[0;32m/usr/local/lib/python3.10/dist-packages/torch/autograd/__init__.py\u001b[0m in \u001b[0;36mbackward\u001b[0;34m(tensors, grad_tensors, retain_graph, create_graph, grad_variables, inputs)\u001b[0m\n\u001b[1;32m    287\u001b[0m     \u001b[0;31m# some Python versions print out the first line of a multi-line function\u001b[0m\u001b[0;34m\u001b[0m\u001b[0;34m\u001b[0m\u001b[0m\n\u001b[1;32m    288\u001b[0m     \u001b[0;31m# calls in the traceback and some print out the last line\u001b[0m\u001b[0;34m\u001b[0m\u001b[0;34m\u001b[0m\u001b[0m\n\u001b[0;32m--> 289\u001b[0;31m     _engine_run_backward(\n\u001b[0m\u001b[1;32m    290\u001b[0m         \u001b[0mtensors\u001b[0m\u001b[0;34m,\u001b[0m\u001b[0;34m\u001b[0m\u001b[0;34m\u001b[0m\u001b[0m\n\u001b[1;32m    291\u001b[0m         \u001b[0mgrad_tensors_\u001b[0m\u001b[0;34m,\u001b[0m\u001b[0;34m\u001b[0m\u001b[0;34m\u001b[0m\u001b[0m\n",
            "\u001b[0;32m/usr/local/lib/python3.10/dist-packages/torch/autograd/graph.py\u001b[0m in \u001b[0;36m_engine_run_backward\u001b[0;34m(t_outputs, *args, **kwargs)\u001b[0m\n\u001b[1;32m    766\u001b[0m         \u001b[0munregister_hooks\u001b[0m \u001b[0;34m=\u001b[0m \u001b[0m_register_logging_hooks_on_whole_graph\u001b[0m\u001b[0;34m(\u001b[0m\u001b[0mt_outputs\u001b[0m\u001b[0;34m)\u001b[0m\u001b[0;34m\u001b[0m\u001b[0;34m\u001b[0m\u001b[0m\n\u001b[1;32m    767\u001b[0m     \u001b[0;32mtry\u001b[0m\u001b[0;34m:\u001b[0m\u001b[0;34m\u001b[0m\u001b[0;34m\u001b[0m\u001b[0m\n\u001b[0;32m--> 768\u001b[0;31m         return Variable._execution_engine.run_backward(  # Calls into the C++ engine to run the backward pass\n\u001b[0m\u001b[1;32m    769\u001b[0m             \u001b[0mt_outputs\u001b[0m\u001b[0;34m,\u001b[0m \u001b[0;34m*\u001b[0m\u001b[0margs\u001b[0m\u001b[0;34m,\u001b[0m \u001b[0;34m**\u001b[0m\u001b[0mkwargs\u001b[0m\u001b[0;34m\u001b[0m\u001b[0;34m\u001b[0m\u001b[0m\n\u001b[1;32m    770\u001b[0m         )  # Calls into the C++ engine to run the backward pass\n",
            "\u001b[0;31mKeyboardInterrupt\u001b[0m: "
          ]
        }
      ]
    },
    {
      "cell_type": "markdown",
      "source": [
        "Plot the validation accuracies of both models. Logistic Regression should be more accurate."
      ],
      "metadata": {
        "id": "-aXCtUYtuw3_"
      }
    },
    {
      "cell_type": "code",
      "source": [
        "import matplotlib.pyplot as plt\n",
        "\n",
        "plt.plot(lin_val_accs, label='LinearRegression')\n",
        "plt.plot(logi_val_accs, label='LogisticRegression')\n",
        "plt.legend()\n",
        "plt.xlabel('Iteration')\n",
        "plt.ylabel('Validation Accuracy (%)')\n",
        "plt.show()"
      ],
      "metadata": {
        "execution": {
          "iopub.execute_input": "2023-10-07T02:20:41.870452Z",
          "iopub.status.busy": "2023-10-07T02:20:41.869823Z",
          "iopub.status.idle": "2023-10-07T02:20:42.112235Z",
          "shell.execute_reply": "2023-10-07T02:20:42.111301Z",
          "shell.execute_reply.started": "2023-10-07T02:20:41.870406Z"
        },
        "id": "vW1a48IqS2iT",
        "colab": {
          "base_uri": "https://localhost:8080/",
          "height": 449
        },
        "outputId": "89cfa7e6-27ae-4102-8e8b-599ca0e6e7c0"
      },
      "execution_count": 222,
      "outputs": [
        {
          "output_type": "display_data",
          "data": {
            "text/plain": [
              "<Figure size 640x480 with 1 Axes>"
            ],
            "image/png": "[encoded data removed]"
          },
          "metadata": {}
        }
      ]
    },
    {
      "cell_type": "markdown",
      "source": [
        "### Softmax Regression\n",
        "\n",
        "Softmax regression is similar to logistic regression except it uses the softmax function instead of sigmoid and uses negative log likelihood for the loss. Here's the formulas:\n",
        "\n",
        "Softmax:\n",
        "\n",
        "$$\\frac{e^{z_{i}}}{\\sum_{j=1}^K e^{z_{j}}} \\ \\ \\ for\\ i=1,2,\\dots,K$$\n",
        "\n",
        "where z is the output of the linear model, and K is the number of classes.\n",
        "\n",
        "Negative Log Likelihood:\n",
        "\n",
        "$$-{\\log(p(y))}$$\n",
        "\n",
        "where p(y) is the predicted probability of the data point belonging to the true class y.\n",
        "\n",
        "Implement them below!"
      ],
      "metadata": {
        "id": "OdxpWU9iu0UV"
      }
    },
    {
      "cell_type": "code",
      "source": [
        "def softmax(x):\n",
        "    # Implement the softmax function\n",
        "    # x is the input data with shape (batch_size, input_size)\n",
        "    # Return the softmax output with shape (batch_size, output_size)\n",
        "    ################# Your Implementations #################################\n",
        "    exp_x = torch.exp(x - torch.max(x, dim=1, keepdim=True)[0])\n",
        "    output = exp_x / exp_x.sum(dim=1, keepdim=True)\n",
        "\n",
        "\n",
        "    ################# End of your Implementations ##########################\n",
        "    return output\n",
        "\n",
        "def nll_loss(pred_probs, targets):\n",
        "    # Calculate the negative log likelihood loss\n",
        "    # pred_probs is the predicted probability distribution with shape (batch_size, output_size)\n",
        "    # targets is the ground-truth labels with shape (batch_size,)\n",
        "    # Return the negative log likelihood loss with shape (batch_size,)\n",
        "\n",
        "    # There are actually two functions for negative log likelihood loss: torch.nn.NLLLoss and torch.nn.functional.nll_loss\n",
        "    # You can convert the ground-truth labels to one-hot encoding using torch.eye() and pass to NLLLoss\n",
        "    # Alternatively, try converting targets to type LongTensor and passing that to functional.nll_loss\n",
        "    ################# Your Implementations #################################\n",
        "    log_probs = torch.log(pred_probs)\n",
        "    loss = -log_probs[range(targets.shape[0]), targets.to(log_probs.device).long()].mean()\n",
        "\n",
        "\n",
        "    ################# End of your Implementations ##########################\n",
        "    return loss"
      ],
      "metadata": {
        "execution": {
          "iopub.execute_input": "2023-10-07T02:20:42.114271Z",
          "iopub.status.busy": "2023-10-07T02:20:42.113454Z",
          "iopub.status.idle": "2023-10-07T02:20:42.12241Z",
          "shell.execute_reply": "2023-10-07T02:20:42.121295Z",
          "shell.execute_reply.started": "2023-10-07T02:20:42.114239Z"
        },
        "id": "mUqySvfdS2iT"
      },
      "execution_count": 161,
      "outputs": []
    },
    {
      "cell_type": "markdown",
      "source": [
        "Use these implementations below to implement the Softmax Regression model."
      ],
      "metadata": {
        "id": "En2_dN61u4GY"
      }
    },
    {
      "cell_type": "code",
      "source": [
        "class SoftmaxRegression(LinearRegression):\n",
        "    def __init__(self, input_size, output_size):\n",
        "        super(SoftmaxRegression, self).__init__(input_size, output_size)\n",
        "\n",
        "    def forward(self, x):\n",
        "        # Apply the softmax function to the linear output\n",
        "        ################# Your Implementations #################################\n",
        "        output = softmax(self.linear(x))\n",
        "\n",
        "\n",
        "        ################# End of your Implementations ##########################\n",
        "        return output\n",
        "\n",
        "    def get_loss(self, pred_logits, targets):\n",
        "        # Calculate the cross-entropy loss\n",
        "        ################# Your Implementations #################################\n",
        "        loss = nll_loss(pred_logits, targets)\n",
        "\n",
        "\n",
        "        ################# End of your Implementations ##########################\n",
        "        return loss\n",
        "\n",
        "    def evaluate(self, x, y):\n",
        "        # Evaluate the performance of the linear regression model on the dataset\n",
        "        # x is the input data, y is the ground-truth labels\n",
        "        # Calculate the predicted labels\n",
        "        y_pred = self.forward(x)\n",
        "        y_pred = y_pred.argmax(dim=1) #changed from dim=0 to dim=1\n",
        "        return (y_pred == y.to(y_pred.device)).float().mean().item()\n"
      ],
      "metadata": {
        "execution": {
          "iopub.execute_input": "2023-10-07T02:20:42.124278Z",
          "iopub.status.busy": "2023-10-07T02:20:42.123678Z",
          "iopub.status.idle": "2023-10-07T02:20:42.137001Z",
          "shell.execute_reply": "2023-10-07T02:20:42.136301Z",
          "shell.execute_reply.started": "2023-10-07T02:20:42.124245Z"
        },
        "id": "jNNKg5S2S2iT"
      },
      "execution_count": 165,
      "outputs": []
    },
    {
      "cell_type": "code",
      "source": [
        "# Prepare multi-class dataset\n",
        "# Here \"ori\" indicates \"original\"\n",
        "X_train_ori_multi, y_train_multi = multi_train.dataset['data'], multi_train.dataset['label']\n",
        "X_val_ori_multi, y_val_multi = multi_val.dataset['data'], multi_val.dataset['label']\n",
        "\n",
        "# Normalization\n",
        "X_train_multi = normalize(X_train_ori_multi)\n",
        "X_val_multi = normalize(X_val_ori_multi)"
      ],
      "metadata": {
        "execution": {
          "iopub.execute_input": "2023-10-07T02:20:42.138794Z",
          "iopub.status.busy": "2023-10-07T02:20:42.137943Z",
          "iopub.status.idle": "2023-10-07T02:20:42.156256Z",
          "shell.execute_reply": "2023-10-07T02:20:42.155352Z",
          "shell.execute_reply.started": "2023-10-07T02:20:42.138765Z"
        },
        "id": "epejCR31S2iT"
      },
      "execution_count": 166,
      "outputs": []
    },
    {
      "cell_type": "markdown",
      "source": [
        "Train! Don't worry if your accuracy is low, that's expected."
      ],
      "metadata": {
        "id": "dE3jGM_zu6OG"
      }
    },
    {
      "cell_type": "code",
      "source": [
        "sfm_model = SoftmaxRegression(3072, 20)\n",
        "# You can change the epochs accordingly here as well\n",
        "sfm_val_accs = sfm_model.fit(X_train_multi.double(), y_train_multi, X_val_multi.double(), y_val_multi, 1e-4, 3000, 1000)"
      ],
      "metadata": {
        "execution": {
          "iopub.execute_input": "2023-10-07T02:20:42.158507Z",
          "iopub.status.busy": "2023-10-07T02:20:42.157548Z",
          "iopub.status.idle": "2023-10-07T02:25:01.355554Z",
          "shell.execute_reply": "2023-10-07T02:25:01.354548Z",
          "shell.execute_reply.started": "2023-10-07T02:20:42.158476Z"
        },
        "id": "350le3gES2iT",
        "colab": {
          "base_uri": "https://localhost:8080/"
        },
        "outputId": "ae3c7043-2d2f-4029-d250-dceb9b48cd58"
      },
      "execution_count": 169,
      "outputs": [
        {
          "output_type": "stream",
          "name": "stderr",
          "text": [
            "val_acc: 0.118: 100%|██████████| 3000/3000 [09:46<00:00,  5.12it/s]\n"
          ]
        }
      ]
    },
    {
      "cell_type": "markdown",
      "source": [
        "### Comparison\n",
        "\n",
        "In your own words, explain the differences between Linear Regression, Logistic Regression and Softmax Regression:"
      ],
      "metadata": {
        "id": "lR7YpMFwS2iT"
      }
    },
    {
      "cell_type": "markdown",
      "source": [
        "*TODO: Write your answer here*"
      ],
      "metadata": {
        "id": "KZAMBiB3u_1n"
      }
    },
    {
      "cell_type": "markdown",
      "source": [
        "## Q2: Multi-Layer Perceptron (MLP)\n",
        "\n",
        "Now, we'll be using MiniPlaces, so there will be 100 different labels (instead of 20).\n",
        "\n",
        "You will use PyTorch to implement linear layers and ReLu to create a multi-layer perceptron."
      ],
      "metadata": {
        "id": "6belwxbTvGFP"
      }
    },
    {
      "cell_type": "code",
      "source": [
        "from torch.utils.data import Dataset\n",
        "from PIL import Image\n",
        "\n",
        "class MiniPlaces(Dataset):\n",
        "    def __init__(self, root_dir, split, transform=None, label_dict=None):\n",
        "        assert split in ['train', 'val', 'test']\n",
        "        self.root_dir = root_dir\n",
        "        self.split = split\n",
        "        self.transform = transform\n",
        "        self.filenames = []\n",
        "        self.labels = []\n",
        "        self.label_dict = label_dict if label_dict is not None else {}\n",
        "        if split == \"train\" or split == \"val\":\n",
        "            with open(os.path.join(root_dir, (\"train\" if self.split == \"train\" else \"val\") + \".txt\")) as f:\n",
        "                for line in f:\n",
        "                    line = line.rstrip().split()\n",
        "                    n = int(line[0][-12:-4])\n",
        "                    if n <= 900:\n",
        "                        self.filenames.append(os.path.join(line[0]))\n",
        "                        self.labels.append(int(line[1]))\n",
        "        if label_dict is None and split == \"train\":\n",
        "            with open(os.path.join(root_dir, \"train.txt\")) as f:\n",
        "                num = -1\n",
        "                for line in f:\n",
        "                    line = line.rstrip().split()\n",
        "                    if int(line[1]) > num:\n",
        "                        num += 1\n",
        "                        self.label_dict.update({int(line[1]): line[0][8:line[0].find(\"/\", 8)]})\n",
        "        if split == \"test\":\n",
        "            self.labels = os.listdir(os.path.join(root_dir, \"images\", \"test\"))\n",
        "            self.filenames = [\"test/\" + i for i in self.labels]\n",
        "\n",
        "    def __len__(self):\n",
        "        dataset_len = len(self.labels)\n",
        "        return dataset_len\n",
        "\n",
        "    def __getitem__(self, idx):\n",
        "        image = Image.open(os.path.join(self.root_dir, \"images\", self.filenames[idx]))\n",
        "        if not self.transform is None:\n",
        "            image = self.transform(image)\n",
        "        label = self.labels[idx]\n",
        "        return image, label\n",
        "\n",
        "from torchvision import transforms\n",
        "\n",
        "data_transform = transforms.Compose([\n",
        "    transforms.Resize((64,64)),\n",
        "    transforms.ToTensor(),\n",
        "    transforms.Normalize([0.485, 0.456, 0.406],[0.229, 0.224, 0.225])\n",
        "])\n",
        "\n",
        "data_root = os.path.join(root_dir, 'data')\n",
        "miniplaces_train = MiniPlaces(data_root, split='train', transform=data_transform)\n",
        "miniplaces_val = MiniPlaces(\n",
        "    data_root, split='val',\n",
        "    transform=data_transform,\n",
        "    label_dict=miniplaces_train.label_dict)"
      ],
      "metadata": {
        "execution": {
          "iopub.execute_input": "2023-10-07T02:25:01.35776Z",
          "iopub.status.busy": "2023-10-07T02:25:01.357137Z",
          "iopub.status.idle": "2023-10-07T02:25:01.848591Z",
          "shell.execute_reply": "2023-10-07T02:25:01.847682Z",
          "shell.execute_reply.started": "2023-10-07T02:25:01.357727Z"
        },
        "id": "6hCbbEp9S2iU"
      },
      "execution_count": 170,
      "outputs": []
    },
    {
      "cell_type": "code",
      "source": [
        "import torch\n",
        "import torch.nn as nn\n",
        "import torch.nn.functional as F"
      ],
      "metadata": {
        "execution": {
          "iopub.execute_input": "2023-10-07T02:25:01.850319Z",
          "iopub.status.busy": "2023-10-07T02:25:01.850005Z",
          "iopub.status.idle": "2023-10-07T02:25:01.855105Z",
          "shell.execute_reply": "2023-10-07T02:25:01.854213Z",
          "shell.execute_reply.started": "2023-10-07T02:25:01.850289Z"
        },
        "id": "IALrjg2JS2iU"
      },
      "execution_count": 171,
      "outputs": []
    },
    {
      "cell_type": "code",
      "source": [
        "class FastMLP(nn.Module):\n",
        "    def __init__(self, input_size, hidden_size, num_classes):\n",
        "        \"\"\"\n",
        "        Initialize an MLP classifier.\n",
        "        Input and output sizes of each layer:\n",
        "          1) fc1: input_size, hidden_size\n",
        "          2) fc2: hidden_size, hidden_size\n",
        "          3) fc3: hidden_size, num_classes\n",
        "\n",
        "        Args:\n",
        "            input_size (int): Size of the input layer.\n",
        "            hidden_size (int): Size of the hidden layer.\n",
        "            num_classes (int): Number of classes in the output layer.\n",
        "        \"\"\"\n",
        "        super().__init__()\n",
        "        self.fc1 = None\n",
        "        self.fc2 = None\n",
        "        self.fc3 = None\n",
        "        ################# Your Implementations #################################\n",
        "        # TODO: Define the layers of the MLP\n",
        "        # Hint: The imported modules should give you a clue on which PyTorch functions to use\n",
        "        self.fc1 = nn.Linear(input_size, hidden_size)\n",
        "        self.fc2 = nn.Linear(hidden_size, hidden_size)\n",
        "        self.fc3 = nn.Linear(hidden_size, num_classes)\n",
        "\n",
        "\n",
        "        ################# End of your Implementations ##########################\n",
        "\n",
        "    def forward(self, x):\n",
        "        \"\"\"\n",
        "        Forward pass of the MLP classifier.\n",
        "        Using ReLU as the activation function after each layer, except for the output layer.\n",
        "        Args:\n",
        "            x (torch.Tensor): Input tensor of shape (batch_size, input_size).\n",
        "\n",
        "        Returns:\n",
        "            torch.Tensor: Output tensor of shape (batch_size, num_classes).\n",
        "        \"\"\"\n",
        "        ################# Your Implementations #################################\n",
        "        # TODO: Implement the forward pass of the MLP classifier\n",
        "        x = F.relu(self.fc1(x))\n",
        "        x = F.relu(self.fc2(x))\n",
        "        x = self.fc3(x)\n",
        "\n",
        "\n",
        "        ################# End of your Implementations ##########################\n",
        "        return x\n"
      ],
      "metadata": {
        "execution": {
          "iopub.execute_input": "2023-10-07T02:25:01.856935Z",
          "iopub.status.busy": "2023-10-07T02:25:01.856181Z",
          "iopub.status.idle": "2023-10-07T02:25:01.866312Z",
          "shell.execute_reply": "2023-10-07T02:25:01.865313Z",
          "shell.execute_reply.started": "2023-10-07T02:25:01.856901Z"
        },
        "id": "HTAJh7JJS2iU"
      },
      "execution_count": 172,
      "outputs": []
    },
    {
      "cell_type": "markdown",
      "source": [
        "Then, define the training and evaluation functions to train and test the MLP classifier (You don't need to modify this part):"
      ],
      "metadata": {
        "id": "Yv1WHvTPvKxB"
      }
    },
    {
      "cell_type": "code",
      "source": [
        "def train(model, train_loader, val_loader, optimizer, criterion, device, num_epochs):\n",
        "    # Place model on device\n",
        "    model = model.to(device)\n",
        "    best_acc = 0\n",
        "    flag = False\n",
        "    for epoch in range(num_epochs):\n",
        "        model.train()  # Set model to training mode\n",
        "        # Use tqdm to display a progress bar during training\n",
        "        with tqdm(total=len(train_loader), desc=f'Epoch {epoch + 1}/{num_epochs}') as pbar:\n",
        "            for inputs, labels in train_loader:\n",
        "                # Move inputs and labels to device\n",
        "                inputs = inputs.to(device)\n",
        "                labels = labels.to(device)\n",
        "                # Zero out gradients\n",
        "                optimizer.zero_grad()\n",
        "                # Compute the logits and loss\n",
        "                logits = model(inputs)\n",
        "                loss = criterion(logits, labels)\n",
        "                # Backpropagate the loss\n",
        "                loss.backward()\n",
        "                # Update the weights\n",
        "                optimizer.step()\n",
        "                # Update the progress bar\n",
        "                pbar.update(1)\n",
        "                pbar.set_postfix(loss=loss.item())\n",
        "\n",
        "        # Evaluate the model on the validation set\n",
        "        avg_loss, accuracy = evaluate(model, val_loader, criterion, device)\n",
        "        if best_acc > accuracy:\n",
        "            if flag:\n",
        "                print(f'Validation set: Average loss = {avg_loss:.4f}, Accuracy = {accuracy:.4f}')\n",
        "                break\n",
        "            else:\n",
        "                flag = True\n",
        "        else:\n",
        "            best_acc = accuracy\n",
        "            flag = False\n",
        "        print(f'Validation set: Average loss = {avg_loss:.4f}, Accuracy = {accuracy:.4f}')\n",
        "\n",
        "def evaluate(model, test_loader, criterion, device):\n",
        "    \"\"\"\n",
        "    Evaluate the classifier on the test set.\n",
        "\n",
        "    Args:\n",
        "        model: classifier to evaluate.\n",
        "        test_loader (torch.utils.data.DataLoader): Data loader for the test set.\n",
        "        criterion (callable): Loss function to use for evaluation.\n",
        "        device (torch.device): Device to use for evaluation.\n",
        "\n",
        "    Returns:\n",
        "        float: Average loss on the test set.\n",
        "        float: Accuracy on the test set.\n",
        "    \"\"\"\n",
        "    model.eval()  # Set model to evaluation mode\n",
        "\n",
        "    with torch.no_grad():\n",
        "        total_loss = 0.0\n",
        "        num_correct = 0\n",
        "        num_samples = 0\n",
        "\n",
        "        for inputs, labels in test_loader:\n",
        "            # Move inputs and labels to device\n",
        "            inputs = inputs.to(device)\n",
        "            labels = labels.to(device)\n",
        "\n",
        "            # Compute the logits and loss\n",
        "            logits = model(inputs)\n",
        "            loss = criterion(logits, labels)\n",
        "            total_loss += loss.item()\n",
        "\n",
        "            # Compute the accuracy\n",
        "            _, predictions = torch.max(logits, dim=1)\n",
        "            num_correct += (predictions == labels).sum().item()\n",
        "            num_samples += len(inputs)\n",
        "\n",
        "    # Compute the average loss and accuracy\n",
        "    avg_loss = total_loss / len(test_loader)\n",
        "    accuracy = num_correct / num_samples\n",
        "\n",
        "    return avg_loss, accuracy\n",
        "\n",
        "def predict(model, test_dataloader):\n",
        "    \"\"\"\n",
        "    Evaluate the classifier on the test set.\n",
        "\n",
        "    Args:\n",
        "        model: classifier to evaluate.\n",
        "        test_loader (torch.utils.data.DataLoader): Data loader for the test set.\n",
        "        criterion (callable): Loss function to use for evaluation.\n",
        "        device (torch.device): Device to use for evaluation.\n",
        "\n",
        "    Returns:\n",
        "        float: Average loss on the test set.\n",
        "        float: Accuracy on the test set.\n",
        "    \"\"\"\n",
        "    out = []\n",
        "    for i in test_dataloader:\n",
        "        pic = i[0]\n",
        "        lab = torch.argmax(model.to('cpu')(pic))\n",
        "        out.append(lab.item())\n",
        "\n",
        "    return out\n",
        "\n",
        "data_transform_flatten = transforms.Compose([data_transform, torch.flatten])"
      ],
      "metadata": {
        "execution": {
          "iopub.execute_input": "2023-10-07T02:25:01.868213Z",
          "iopub.status.busy": "2023-10-07T02:25:01.867684Z",
          "iopub.status.idle": "2023-10-07T02:25:01.886545Z",
          "shell.execute_reply": "2023-10-07T02:25:01.885542Z",
          "shell.execute_reply.started": "2023-10-07T02:25:01.868185Z"
        },
        "id": "Qy917OG_S2iU"
      },
      "execution_count": 173,
      "outputs": []
    },
    {
      "cell_type": "code",
      "source": [
        "model = FastMLP(\n",
        "    input_size=3 * 64 * 64,\n",
        "    hidden_size=1024,\n",
        "    num_classes=len(miniplaces_train.label_dict))\n",
        "optimizer = torch.optim.SGD(\n",
        "    model.parameters(),\n",
        "    lr=0.01,\n",
        "    momentum=0.9)\n",
        "criterion = nn.CrossEntropyLoss()\n",
        "\n",
        "data_root = os.path.join(root_dir, 'data')\n",
        "train_dataset = MiniPlaces(\n",
        "    root_dir=data_root, split='train',\n",
        "    transform=data_transform_flatten)\n",
        "val_dataset = MiniPlaces(\n",
        "    root_dir=data_root, split='val',\n",
        "    transform=data_transform_flatten,\n",
        "    label_dict=train_dataset.label_dict)\n",
        "\n",
        "### !!! DON'T CHANGE NUM_WORKERS FROM 0 !!!\n",
        "### Using the loader will crash the notebook\n",
        "\n",
        "train_loader = torch.utils.data.DataLoader(\n",
        "    train_dataset, batch_size=64, num_workers=0, shuffle=True)\n",
        "val_loader = torch.utils.data.DataLoader(\n",
        "    val_dataset, batch_size=64, num_workers=0, shuffle=False)"
      ],
      "metadata": {
        "execution": {
          "iopub.execute_input": "2023-10-07T02:25:01.888753Z",
          "iopub.status.busy": "2023-10-07T02:25:01.88787Z",
          "iopub.status.idle": "2023-10-07T02:25:02.170334Z",
          "shell.execute_reply": "2023-10-07T02:25:02.169396Z",
          "shell.execute_reply.started": "2023-10-07T02:25:01.888722Z"
        },
        "id": "lrz292JzS2iV"
      },
      "execution_count": 174,
      "outputs": []
    },
    {
      "cell_type": "markdown",
      "source": [
        "Train!"
      ],
      "metadata": {
        "id": "v6rHQjo-vOfk"
      }
    },
    {
      "cell_type": "code",
      "source": [
        "train(model, train_loader, val_loader, optimizer, criterion, device, num_epochs=2)"
      ],
      "metadata": {
        "execution": {
          "iopub.execute_input": "2023-10-07T02:25:02.172229Z",
          "iopub.status.busy": "2023-10-07T02:25:02.171708Z",
          "iopub.status.idle": "2023-10-07T02:27:32.844057Z",
          "shell.execute_reply": "2023-10-07T02:27:32.843133Z",
          "shell.execute_reply.started": "2023-10-07T02:25:02.172198Z"
        },
        "id": "z7Lkar0mS2iV",
        "colab": {
          "base_uri": "https://localhost:8080/"
        },
        "outputId": "3c296932-31ba-456c-e925-3bb8d6245297"
      },
      "execution_count": 175,
      "outputs": [
        {
          "output_type": "stream",
          "name": "stderr",
          "text": [
            "Epoch 1/2: 100%|██████████| 1407/1407 [01:32<00:00, 15.13it/s, loss=4]\n"
          ]
        },
        {
          "output_type": "stream",
          "name": "stdout",
          "text": [
            "Validation set: Average loss = 3.9097, Accuracy = 0.1122\n"
          ]
        },
        {
          "output_type": "stream",
          "name": "stderr",
          "text": [
            "Epoch 2/2: 100%|██████████| 1407/1407 [01:32<00:00, 15.17it/s, loss=4.07]\n"
          ]
        },
        {
          "output_type": "stream",
          "name": "stdout",
          "text": [
            "Validation set: Average loss = 3.8709, Accuracy = 0.1100\n"
          ]
        }
      ]
    },
    {
      "cell_type": "markdown",
      "source": [
        "Don't worry if your accuracy is low, that's to be expected."
      ],
      "metadata": {
        "id": "j2kvnzTMvQ9b"
      }
    },
    {
      "cell_type": "markdown",
      "source": [
        "## Q3: Convolutional Neural Network (CNN)\n",
        "\n",
        "This question is similar to the last, but you'll be implementing a convolutional neural network instead. You'll need to use convolutional layers, a max pooling layer, and dropout layers."
      ],
      "metadata": {
        "id": "do5obzs5vSf2"
      }
    },
    {
      "cell_type": "code",
      "source": [
        "class FastConv(nn.Module):\n",
        "    def __init__(\n",
        "        self,\n",
        "        input_channels, conv_hidden_channels, conv_out_channels,\n",
        "        input_size=(64,64),\n",
        "        dropout_rate1=0.25, dropout_rate2=0.5,\n",
        "        fc_out_channels=128, num_classes=100,\n",
        "        kernel_size=3, stride=1, padding=1):\n",
        "        \"\"\"\n",
        "        Args:\n",
        "          input_channels (int): Number of channels in the input image.\n",
        "          conv_hidden_channels (int): Number of channels in the first convolutional layer.\n",
        "          conv_out_channels (int): Number of channels in the second convolutional layer.\n",
        "          input_size (tuple, optional): Height and width of the input image. (default: (64,64))\n",
        "          dropout_rate1, dropout_rate2 (float, optional): Dropout rate for\n",
        "              the first/second dropout layer. (default: 0.25, 0.5)\n",
        "          fc_out_channels (int, optional): Number of neurons in the first fully\n",
        "              connected layer. (default: 128)\n",
        "          num_classes (int, optional): Number of classes in the final output layer. (default: 100)\n",
        "          kernel_size, stride, padding (int, optional): Parameters of convolutional layers.\n",
        "\n",
        "        Initialize a convolutional neural network.\n",
        "        You can use Pytorch's built-in nn.Conv2d function.\n",
        "        Input and output shapes of each layer:\n",
        "        1) conv1: (batch_size, input_channels, H, W) -> (batch_size, conv_hidden_channels, H, W)\n",
        "        2) conv2: (batch_size, conv_hidden_channels, H, W) -> (batch_size, conv_out_channels, H, W)\n",
        "        3) max_pooling: (batch_size, conv_out_channels, H, W)\n",
        "        4) fc1: (batch_size, flatten_size) -> (batch_size, fc_out_channels)\n",
        "        5) fc2: (batch_size, fc_out_channels) -> (batch_size, num_classes)\n",
        "        \"\"\"\n",
        "\n",
        "        super().__init__()\n",
        "\n",
        "        # I've given you 'flatten_size', since I'm not expecting you to have this formula memorized :)\n",
        "        flatten_size = conv_out_channels * ((input_size[0] + 2 * padding - kernel_size) // stride + 1) * ((input_size[1] + 2 * padding - kernel_size) // stride + 1)\n",
        "        self.conv1 = None\n",
        "        self.conv2 = None\n",
        "        self.max_pooling = None\n",
        "        self.dropout1 = None\n",
        "        self.dropout2 = None\n",
        "        self.fc1 = None\n",
        "        self.fc2 = None\n",
        "        ################# Your Implementations #################################\n",
        "        # TODO: Define the layers of the convolutional neural network\n",
        "        # replace \"None\"s with your implementations.\n",
        "        # All you need to do is to pass the input arguments to different constructors\n",
        "        self.conv1 = nn.Conv2d(input_channels, conv_hidden_channels, kernel_size, stride, padding)\n",
        "        self.conv2 = nn.Conv2d(conv_hidden_channels, conv_out_channels, kernel_size, stride, padding)\n",
        "        self.max_pooling = nn.MaxPool2d(2, 2)  # Max pooling layer\n",
        "        self.dropout1 = nn.Dropout(dropout_rate1)  # First dropout layer\n",
        "        self.dropout2 = nn.Dropout(dropout_rate2)\n",
        "        self.fc1 = nn.Linear(131072, fc_out_channels)  # Replace the input size with 131072\n",
        "        self.fc2 = nn.Linear(fc_out_channels, num_classes)\n",
        "\n",
        "\n",
        "\n",
        "        ################# End of your Implementations ##########################\n",
        "\n",
        "    def forward(self, x, return_intermediate=False):\n",
        "        \"\"\"\n",
        "        Forward pass of the convolutional neural network.\n",
        "        The input tensor 'x' should pass through the following layers:\n",
        "        1) conv1: (batch_size, input_channels, H, W) -> (batch_size, conv_hidden_channels, H, W)\n",
        "        2) Apply relu.\n",
        "        3) conv2: (batch_size, conv_hidden_channels, H, W) -> (batch_size, conv_out_channels, H, W)\n",
        "        4) max_pooling: Perform max pooling on the output from conv2\n",
        "        5) dropout1: Perform dropout on the output from max_pooling\n",
        "        6) Flatten the output from dropout1\n",
        "        7) fc1: Pass through a fully connected layer\n",
        "        8) dropout2: Perform dropout on the output from fc1\n",
        "        9) Apply relu.\n",
        "        10) fc2: Pass the output from the actiction layer to through a fully connected\n",
        "                layer to produce the final output\n",
        "        \"\"\"\n",
        "        ################# Your Implementations #################################\n",
        "        # TODO: Implement the forward pass of the convolutional neural network\n",
        "        x = F.relu(self.conv1(x))\n",
        "        x = F.relu(self.conv2(x))\n",
        "        x = self.max_pooling(x)\n",
        "\n",
        "        x = self.dropout1(x)\n",
        "\n",
        "        x = x.view(x.size(0), -1)\n",
        "\n",
        "        print(x.shape)\n",
        "\n",
        "        x = F.relu(self.fc1(x))\n",
        "        x = self.dropout2(x)\n",
        "        x = self.fc2(x)\n",
        "\n",
        "\n",
        "        ################# End of your Implementations ##########################\n",
        "        return x\n"
      ],
      "metadata": {
        "execution": {
          "iopub.execute_input": "2023-10-07T02:27:32.846054Z",
          "iopub.status.busy": "2023-10-07T02:27:32.845706Z",
          "iopub.status.idle": "2023-10-07T02:27:32.858683Z",
          "shell.execute_reply": "2023-10-07T02:27:32.857864Z",
          "shell.execute_reply.started": "2023-10-07T02:27:32.846023Z"
        },
        "id": "LUnmzdS0S2iV"
      },
      "execution_count": 195,
      "outputs": []
    },
    {
      "cell_type": "code",
      "source": [
        "conv_train_dataset = MiniPlaces(\n",
        "    root_dir=data_root, split='train',\n",
        "    transform=data_transform)\n",
        "conv_val_dataset = MiniPlaces(\n",
        "    root_dir=data_root, split='val',\n",
        "    transform=data_transform)\n",
        "conv_train_loader = torch.utils.data.DataLoader(\n",
        "    conv_train_dataset, batch_size=64, num_workers=0, shuffle=True)\n",
        "conv_val_loader = torch.utils.data.DataLoader(\n",
        "    conv_val_dataset, batch_size=64, num_workers=0, shuffle=False)\n",
        "\n",
        "model = FastConv(\n",
        "    input_channels=3, conv_hidden_channels=64, conv_out_channels=128,\n",
        "    input_size=(64,64),\n",
        "    dropout_rate1=0.25, dropout_rate2=0.5,\n",
        "    fc_out_channels=128,\n",
        "    kernel_size=3, stride=1, padding=1,\n",
        "    num_classes=len(miniplaces_train.label_dict))\n",
        "optimizer = torch.optim.SGD(model.parameters(), lr=0.01, momentum=0.9)\n",
        "criterion = nn.CrossEntropyLoss()"
      ],
      "metadata": {
        "execution": {
          "iopub.execute_input": "2023-10-07T02:27:32.863492Z",
          "iopub.status.busy": "2023-10-07T02:27:32.863259Z",
          "iopub.status.idle": "2023-10-07T02:27:33.660811Z",
          "shell.execute_reply": "2023-10-07T02:27:33.659848Z",
          "shell.execute_reply.started": "2023-10-07T02:27:32.863472Z"
        },
        "id": "U3L6j5hPS2iW"
      },
      "execution_count": 196,
      "outputs": []
    },
    {
      "cell_type": "markdown",
      "source": [
        "Train!"
      ],
      "metadata": {
        "id": "F0m77a-xvXv3"
      }
    },
    {
      "cell_type": "code",
      "source": [
        "train(model, conv_train_loader, conv_val_loader, optimizer, criterion, device, num_epochs=2)"
      ],
      "metadata": {
        "execution": {
          "iopub.execute_input": "2023-10-07T02:27:33.662588Z",
          "iopub.status.busy": "2023-10-07T02:27:33.662236Z",
          "iopub.status.idle": "2023-10-07T02:31:35.175404Z",
          "shell.execute_reply": "2023-10-07T02:31:35.174516Z",
          "shell.execute_reply.started": "2023-10-07T02:27:33.662556Z"
        },
        "id": "dFq88hc5S2iW",
        "colab": {
          "base_uri": "https://localhost:8080/",
          "height": 293
        },
        "outputId": "856a10e9-b6dd-4bf8-88f0-f91f6c2c0af9"
      },
      "execution_count": 204,
      "outputs": [
        {
          "output_type": "error",
          "ename": "RuntimeError",
          "evalue": "mat1 and mat2 shapes cannot be multiplied (64x131072 and 32768x256)",
          "traceback": [
            "\u001b[0;31m---------------------------------------------------------------------------\u001b[0m",
            "\u001b[0;31mRuntimeError\u001b[0m                              Traceback (most recent call last)",
            "\u001b[0;32m<ipython-input-204-13adbcd1b6e4>\u001b[0m in \u001b[0;36m<cell line: 1>\u001b[0;34m()\u001b[0m\n\u001b[0;32m----> 1\u001b[0;31m \u001b[0mtrain\u001b[0m\u001b[0;34m(\u001b[0m\u001b[0mmodel\u001b[0m\u001b[0;34m,\u001b[0m \u001b[0mconv_train_loader\u001b[0m\u001b[0;34m,\u001b[0m \u001b[0mconv_val_loader\u001b[0m\u001b[0;34m,\u001b[0m \u001b[0moptimizer\u001b[0m\u001b[0;34m,\u001b[0m \u001b[0mcriterion\u001b[0m\u001b[0;34m,\u001b[0m \u001b[0mdevice\u001b[0m\u001b[0;34m,\u001b[0m \u001b[0mnum_epochs\u001b[0m\u001b[0;34m=\u001b[0m\u001b[0;36m2\u001b[0m\u001b[0;34m)\u001b[0m\u001b[0;34m\u001b[0m\u001b[0;34m\u001b[0m\u001b[0m\n\u001b[0m",
            "\u001b[0;32m<ipython-input-197-9d1d167e0455>\u001b[0m in \u001b[0;36mtrain\u001b[0;34m(model, train_loader, val_loader, optimizer, criterion, device, num_epochs)\u001b[0m\n\u001b[1;32m     11\u001b[0m \u001b[0;34m\u001b[0m\u001b[0m\n\u001b[1;32m     12\u001b[0m             \u001b[0;31m# Forward pass\u001b[0m\u001b[0;34m\u001b[0m\u001b[0;34m\u001b[0m\u001b[0m\n\u001b[0;32m---> 13\u001b[0;31m             \u001b[0moutputs\u001b[0m \u001b[0;34m=\u001b[0m \u001b[0mmodel\u001b[0m\u001b[0;34m(\u001b[0m\u001b[0mimages\u001b[0m\u001b[0;34m)\u001b[0m\u001b[0;34m\u001b[0m\u001b[0;34m\u001b[0m\u001b[0m\n\u001b[0m\u001b[1;32m     14\u001b[0m             \u001b[0mloss\u001b[0m \u001b[0;34m=\u001b[0m \u001b[0mcriterion\u001b[0m\u001b[0;34m(\u001b[0m\u001b[0moutputs\u001b[0m\u001b[0;34m,\u001b[0m \u001b[0mlabels\u001b[0m\u001b[0;34m)\u001b[0m\u001b[0;34m\u001b[0m\u001b[0;34m\u001b[0m\u001b[0m\n\u001b[1;32m     15\u001b[0m \u001b[0;34m\u001b[0m\u001b[0m\n",
            "\u001b[0;32m/usr/local/lib/python3.10/dist-packages/torch/nn/modules/module.py\u001b[0m in \u001b[0;36m_wrapped_call_impl\u001b[0;34m(self, *args, **kwargs)\u001b[0m\n\u001b[1;32m   1551\u001b[0m             \u001b[0;32mreturn\u001b[0m \u001b[0mself\u001b[0m\u001b[0;34m.\u001b[0m\u001b[0m_compiled_call_impl\u001b[0m\u001b[0;34m(\u001b[0m\u001b[0;34m*\u001b[0m\u001b[0margs\u001b[0m\u001b[0;34m,\u001b[0m \u001b[0;34m**\u001b[0m\u001b[0mkwargs\u001b[0m\u001b[0;34m)\u001b[0m  \u001b[0;31m# type: ignore[misc]\u001b[0m\u001b[0;34m\u001b[0m\u001b[0;34m\u001b[0m\u001b[0m\n\u001b[1;32m   1552\u001b[0m         \u001b[0;32melse\u001b[0m\u001b[0;34m:\u001b[0m\u001b[0;34m\u001b[0m\u001b[0;34m\u001b[0m\u001b[0m\n\u001b[0;32m-> 1553\u001b[0;31m             \u001b[0;32mreturn\u001b[0m \u001b[0mself\u001b[0m\u001b[0;34m.\u001b[0m\u001b[0m_call_impl\u001b[0m\u001b[0;34m(\u001b[0m\u001b[0;34m*\u001b[0m\u001b[0margs\u001b[0m\u001b[0;34m,\u001b[0m \u001b[0;34m**\u001b[0m\u001b[0mkwargs\u001b[0m\u001b[0;34m)\u001b[0m\u001b[0;34m\u001b[0m\u001b[0;34m\u001b[0m\u001b[0m\n\u001b[0m\u001b[1;32m   1554\u001b[0m \u001b[0;34m\u001b[0m\u001b[0m\n\u001b[1;32m   1555\u001b[0m     \u001b[0;32mdef\u001b[0m \u001b[0m_call_impl\u001b[0m\u001b[0;34m(\u001b[0m\u001b[0mself\u001b[0m\u001b[0;34m,\u001b[0m \u001b[0;34m*\u001b[0m\u001b[0margs\u001b[0m\u001b[0;34m,\u001b[0m \u001b[0;34m**\u001b[0m\u001b[0mkwargs\u001b[0m\u001b[0;34m)\u001b[0m\u001b[0;34m:\u001b[0m\u001b[0;34m\u001b[0m\u001b[0;34m\u001b[0m\u001b[0m\n",
            "\u001b[0;32m/usr/local/lib/python3.10/dist-packages/torch/nn/modules/module.py\u001b[0m in \u001b[0;36m_call_impl\u001b[0;34m(self, *args, **kwargs)\u001b[0m\n\u001b[1;32m   1560\u001b[0m                 \u001b[0;32mor\u001b[0m \u001b[0m_global_backward_pre_hooks\u001b[0m \u001b[0;32mor\u001b[0m \u001b[0m_global_backward_hooks\u001b[0m\u001b[0;34m\u001b[0m\u001b[0;34m\u001b[0m\u001b[0m\n\u001b[1;32m   1561\u001b[0m                 or _global_forward_hooks or _global_forward_pre_hooks):\n\u001b[0;32m-> 1562\u001b[0;31m             \u001b[0;32mreturn\u001b[0m \u001b[0mforward_call\u001b[0m\u001b[0;34m(\u001b[0m\u001b[0;34m*\u001b[0m\u001b[0margs\u001b[0m\u001b[0;34m,\u001b[0m \u001b[0;34m**\u001b[0m\u001b[0mkwargs\u001b[0m\u001b[0;34m)\u001b[0m\u001b[0;34m\u001b[0m\u001b[0;34m\u001b[0m\u001b[0m\n\u001b[0m\u001b[1;32m   1563\u001b[0m \u001b[0;34m\u001b[0m\u001b[0m\n\u001b[1;32m   1564\u001b[0m         \u001b[0;32mtry\u001b[0m\u001b[0;34m:\u001b[0m\u001b[0;34m\u001b[0m\u001b[0;34m\u001b[0m\u001b[0m\n",
            "\u001b[0;32m<ipython-input-200-9faed0cc65be>\u001b[0m in \u001b[0;36mforward\u001b[0;34m(self, x)\u001b[0m\n\u001b[1;32m     29\u001b[0m \u001b[0;34m\u001b[0m\u001b[0m\n\u001b[1;32m     30\u001b[0m         \u001b[0;31m# Pass through the fully connected layers\u001b[0m\u001b[0;34m\u001b[0m\u001b[0;34m\u001b[0m\u001b[0m\n\u001b[0;32m---> 31\u001b[0;31m         \u001b[0mx\u001b[0m \u001b[0;34m=\u001b[0m \u001b[0mF\u001b[0m\u001b[0;34m.\u001b[0m\u001b[0mrelu\u001b[0m\u001b[0;34m(\u001b[0m\u001b[0mself\u001b[0m\u001b[0;34m.\u001b[0m\u001b[0mfc1\u001b[0m\u001b[0;34m(\u001b[0m\u001b[0mx\u001b[0m\u001b[0;34m)\u001b[0m\u001b[0;34m)\u001b[0m\u001b[0;34m\u001b[0m\u001b[0;34m\u001b[0m\u001b[0m\n\u001b[0m\u001b[1;32m     32\u001b[0m         \u001b[0mx\u001b[0m \u001b[0;34m=\u001b[0m \u001b[0mself\u001b[0m\u001b[0;34m.\u001b[0m\u001b[0mdropout\u001b[0m\u001b[0;34m(\u001b[0m\u001b[0mx\u001b[0m\u001b[0;34m)\u001b[0m\u001b[0;34m\u001b[0m\u001b[0;34m\u001b[0m\u001b[0m\n\u001b[1;32m     33\u001b[0m         \u001b[0mx\u001b[0m \u001b[0;34m=\u001b[0m \u001b[0mself\u001b[0m\u001b[0;34m.\u001b[0m\u001b[0mfc2\u001b[0m\u001b[0;34m(\u001b[0m\u001b[0mx\u001b[0m\u001b[0;34m)\u001b[0m\u001b[0;34m\u001b[0m\u001b[0;34m\u001b[0m\u001b[0m\n",
            "\u001b[0;32m/usr/local/lib/python3.10/dist-packages/torch/nn/modules/module.py\u001b[0m in \u001b[0;36m_wrapped_call_impl\u001b[0;34m(self, *args, **kwargs)\u001b[0m\n\u001b[1;32m   1551\u001b[0m             \u001b[0;32mreturn\u001b[0m \u001b[0mself\u001b[0m\u001b[0;34m.\u001b[0m\u001b[0m_compiled_call_impl\u001b[0m\u001b[0;34m(\u001b[0m\u001b[0;34m*\u001b[0m\u001b[0margs\u001b[0m\u001b[0;34m,\u001b[0m \u001b[0;34m**\u001b[0m\u001b[0mkwargs\u001b[0m\u001b[0;34m)\u001b[0m  \u001b[0;31m# type: ignore[misc]\u001b[0m\u001b[0;34m\u001b[0m\u001b[0;34m\u001b[0m\u001b[0m\n\u001b[1;32m   1552\u001b[0m         \u001b[0;32melse\u001b[0m\u001b[0;34m:\u001b[0m\u001b[0;34m\u001b[0m\u001b[0;34m\u001b[0m\u001b[0m\n\u001b[0;32m-> 1553\u001b[0;31m             \u001b[0;32mreturn\u001b[0m \u001b[0mself\u001b[0m\u001b[0;34m.\u001b[0m\u001b[0m_call_impl\u001b[0m\u001b[0;34m(\u001b[0m\u001b[0;34m*\u001b[0m\u001b[0margs\u001b[0m\u001b[0;34m,\u001b[0m \u001b[0;34m**\u001b[0m\u001b[0mkwargs\u001b[0m\u001b[0;34m)\u001b[0m\u001b[0;34m\u001b[0m\u001b[0;34m\u001b[0m\u001b[0m\n\u001b[0m\u001b[1;32m   1554\u001b[0m \u001b[0;34m\u001b[0m\u001b[0m\n\u001b[1;32m   1555\u001b[0m     \u001b[0;32mdef\u001b[0m \u001b[0m_call_impl\u001b[0m\u001b[0;34m(\u001b[0m\u001b[0mself\u001b[0m\u001b[0;34m,\u001b[0m \u001b[0;34m*\u001b[0m\u001b[0margs\u001b[0m\u001b[0;34m,\u001b[0m \u001b[0;34m**\u001b[0m\u001b[0mkwargs\u001b[0m\u001b[0;34m)\u001b[0m\u001b[0;34m:\u001b[0m\u001b[0;34m\u001b[0m\u001b[0;34m\u001b[0m\u001b[0m\n",
            "\u001b[0;32m/usr/local/lib/python3.10/dist-packages/torch/nn/modules/module.py\u001b[0m in \u001b[0;36m_call_impl\u001b[0;34m(self, *args, **kwargs)\u001b[0m\n\u001b[1;32m   1560\u001b[0m                 \u001b[0;32mor\u001b[0m \u001b[0m_global_backward_pre_hooks\u001b[0m \u001b[0;32mor\u001b[0m \u001b[0m_global_backward_hooks\u001b[0m\u001b[0;34m\u001b[0m\u001b[0;34m\u001b[0m\u001b[0m\n\u001b[1;32m   1561\u001b[0m                 or _global_forward_hooks or _global_forward_pre_hooks):\n\u001b[0;32m-> 1562\u001b[0;31m             \u001b[0;32mreturn\u001b[0m \u001b[0mforward_call\u001b[0m\u001b[0;34m(\u001b[0m\u001b[0;34m*\u001b[0m\u001b[0margs\u001b[0m\u001b[0;34m,\u001b[0m \u001b[0;34m**\u001b[0m\u001b[0mkwargs\u001b[0m\u001b[0;34m)\u001b[0m\u001b[0;34m\u001b[0m\u001b[0;34m\u001b[0m\u001b[0m\n\u001b[0m\u001b[1;32m   1563\u001b[0m \u001b[0;34m\u001b[0m\u001b[0m\n\u001b[1;32m   1564\u001b[0m         \u001b[0;32mtry\u001b[0m\u001b[0;34m:\u001b[0m\u001b[0;34m\u001b[0m\u001b[0;34m\u001b[0m\u001b[0m\n",
            "\u001b[0;32m/usr/local/lib/python3.10/dist-packages/torch/nn/modules/linear.py\u001b[0m in \u001b[0;36mforward\u001b[0;34m(self, input)\u001b[0m\n\u001b[1;32m    115\u001b[0m \u001b[0;34m\u001b[0m\u001b[0m\n\u001b[1;32m    116\u001b[0m     \u001b[0;32mdef\u001b[0m \u001b[0mforward\u001b[0m\u001b[0;34m(\u001b[0m\u001b[0mself\u001b[0m\u001b[0;34m,\u001b[0m \u001b[0minput\u001b[0m\u001b[0;34m:\u001b[0m \u001b[0mTensor\u001b[0m\u001b[0;34m)\u001b[0m \u001b[0;34m->\u001b[0m \u001b[0mTensor\u001b[0m\u001b[0;34m:\u001b[0m\u001b[0;34m\u001b[0m\u001b[0;34m\u001b[0m\u001b[0m\n\u001b[0;32m--> 117\u001b[0;31m         \u001b[0;32mreturn\u001b[0m \u001b[0mF\u001b[0m\u001b[0;34m.\u001b[0m\u001b[0mlinear\u001b[0m\u001b[0;34m(\u001b[0m\u001b[0minput\u001b[0m\u001b[0;34m,\u001b[0m \u001b[0mself\u001b[0m\u001b[0;34m.\u001b[0m\u001b[0mweight\u001b[0m\u001b[0;34m,\u001b[0m \u001b[0mself\u001b[0m\u001b[0;34m.\u001b[0m\u001b[0mbias\u001b[0m\u001b[0;34m)\u001b[0m\u001b[0;34m\u001b[0m\u001b[0;34m\u001b[0m\u001b[0m\n\u001b[0m\u001b[1;32m    118\u001b[0m \u001b[0;34m\u001b[0m\u001b[0m\n\u001b[1;32m    119\u001b[0m     \u001b[0;32mdef\u001b[0m \u001b[0mextra_repr\u001b[0m\u001b[0;34m(\u001b[0m\u001b[0mself\u001b[0m\u001b[0;34m)\u001b[0m \u001b[0;34m->\u001b[0m \u001b[0mstr\u001b[0m\u001b[0;34m:\u001b[0m\u001b[0;34m\u001b[0m\u001b[0;34m\u001b[0m\u001b[0m\n",
            "\u001b[0;31mRuntimeError\u001b[0m: mat1 and mat2 shapes cannot be multiplied (64x131072 and 32768x256)"
          ]
        }
      ]
    },
    {
      "cell_type": "markdown",
      "source": [
        "I can get ~20% accuracy after two epochs. How about you?"
      ],
      "metadata": {
        "id": "myZY1O24vYp5"
      }
    },
    {
      "cell_type": "markdown",
      "source": [
        "## Q4: Your own model\n",
        "\n",
        "You will construct your own model using built-in convolutional layers. You can base your model on the provided `FastConv` class, or choose to modify the number of convolutional layers, feature size, learning rate, optimizer, and other parameters to suit your needs. You can also use any data transformations you'd like. You can even base your model off of an already existing architecture. The only restriction is that you can't blindly import an entire model at once; you should be creating every layer using PyTorch. Create your model and train using cells below."
      ],
      "metadata": {
        "id": "96dwsv_9vb5j"
      }
    },
    {
      "cell_type": "code",
      "source": [
        "### Use these cells to design and train your model\n",
        "import torch\n",
        "import torch.nn as nn\n",
        "import torch.nn.functional as F\n",
        "\n",
        "# Define your custom model\n",
        "class CustomConvNet(nn.Module):\n",
        "    def __init__(self, input_channels=3, num_classes=100):\n",
        "        super(CustomConvNet, self).__init__()\n",
        "\n",
        "        # Define the convolutional layers\n",
        "        self.conv1 = nn.Conv2d(input_channels, 64, kernel_size=3, padding=1)\n",
        "        self.conv2 = nn.Conv2d(64, 128, kernel_size=3, padding=1)\n",
        "        self.max_pooling = nn.MaxPool2d(kernel_size=2, stride=2)\n",
        "        self.dropout = nn.Dropout(0.25)\n",
        "\n",
        "        # Fully connected layers\n",
        "        self.fc1 = nn.Linear(128 * 16 * 16, 256)  # Adjust based on input image size after pooling\n",
        "        self.fc2 = nn.Linear(256, num_classes)\n",
        "\n",
        "    def forward(self, x):\n",
        "        # Pass through the convolutional layers with ReLU activation\n",
        "        x = F.relu(self.conv1(x))\n",
        "        x = F.relu(self.conv2(x))\n",
        "        x = self.max_pooling(x)\n",
        "\n",
        "        # Flatten the output\n",
        "        x = x.view(x.size(0), -1)\n",
        "\n",
        "        # Pass through the fully connected layers\n",
        "        x = F.relu(self.fc1(x))\n",
        "        x = self.dropout(x)\n",
        "        x = self.fc2(x)\n",
        "        return x\n",
        "\n",
        "# Instantiate the model, optimizer, and loss function\n",
        "model = CustomConvNet(input_channels=3, num_classes=100)\n",
        "optimizer = torch.optim.Adam(model.parameters(), lr=0.001)\n",
        "criterion = nn.CrossEntropyLoss()\n",
        "\n",
        "# Now you can use the train function from previous cells to train this model"
      ],
      "metadata": {
        "execution": {
          "iopub.execute_input": "2023-10-07T02:31:35.177651Z",
          "iopub.status.busy": "2023-10-07T02:31:35.176994Z",
          "iopub.status.idle": "2023-10-07T02:31:35.192199Z",
          "shell.execute_reply": "2023-10-07T02:31:35.191285Z",
          "shell.execute_reply.started": "2023-10-07T02:31:35.177602Z"
        },
        "id": "2jnrWmTJS2iW"
      },
      "execution_count": 200,
      "outputs": []
    },
    {
      "cell_type": "code",
      "source": [
        "### Previous questions will be super useful"
      ],
      "metadata": {
        "execution": {
          "iopub.execute_input": "2023-10-07T02:31:35.194237Z",
          "iopub.status.busy": "2023-10-07T02:31:35.193796Z",
          "iopub.status.idle": "2023-10-07T02:31:35.912492Z",
          "shell.execute_reply": "2023-10-07T02:31:35.911583Z",
          "shell.execute_reply.started": "2023-10-07T02:31:35.194205Z"
        },
        "id": "zbwdIV_dS2iW"
      },
      "execution_count": 201,
      "outputs": []
    },
    {
      "cell_type": "markdown",
      "source": [
        "Now that you've designed your model and trained it, it's time to test it's accuracy! Use the \"test\" images and the 'predict' function.\n",
        "\n",
        "NOTE: Make sure when constructing your DataLoader, you set 'shuffle' to 'False'. This is so I can match your model's predictions to test images to find how accurate its predictions are."
      ],
      "metadata": {
        "id": "nRu2l4A5vj7_"
      }
    },
    {
      "cell_type": "code",
      "source": [
        "### Create your DataLoader and use predict to get your model's predictions\n",
        "# Assuming 'test_dataset' is already created\n",
        "test_loader = torch.utils.data.DataLoader(test_dataset, batch_size=64, shuffle=False)\n",
        "\n",
        "# Define the predict function\n",
        "def predict(model, test_loader, device):\n",
        "    model.eval()  # Set the model to evaluation mode\n",
        "    preds = []\n",
        "\n",
        "    with torch.no_grad():  # No need to track gradients for evaluation\n",
        "        for inputs in test_loader:\n",
        "            inputs = inputs.to(device)\n",
        "            outputs = model(inputs)\n",
        "            _, predicted = torch.max(outputs, 1)  # Get the index of the max log-probability\n",
        "            preds.extend(predicted.cpu().numpy())  # Add predictions to list\n",
        "\n",
        "    return preds\n",
        "\n",
        "# Use the model to make predictions on the test data\n",
        "device = torch.device(\"cuda\" if torch.cuda.is_available() else \"cpu\")\n",
        "model.to(device)\n",
        "test_preds = predict(model, test_loader, device)\n",
        "\n",
        "# Use the provided function to save predictions to JSON\n",
        "preds_to_json(test_preds)"
      ],
      "metadata": {
        "id": "yME96Ltrv4hN",
        "colab": {
          "base_uri": "https://localhost:8080/",
          "height": 216
        },
        "outputId": "4c9d370e-6a5a-43b9-9c4c-ecc803ecf6c9"
      },
      "execution_count": 202,
      "outputs": [
        {
          "output_type": "error",
          "ename": "NameError",
          "evalue": "name 'test_dataset' is not defined",
          "traceback": [
            "\u001b[0;31m---------------------------------------------------------------------------\u001b[0m",
            "\u001b[0;31mNameError\u001b[0m                                 Traceback (most recent call last)",
            "\u001b[0;32m<ipython-input-202-ffedf9c3e41d>\u001b[0m in \u001b[0;36m<cell line: 3>\u001b[0;34m()\u001b[0m\n\u001b[1;32m      1\u001b[0m \u001b[0;31m### Create your DataLoader and use predict to get your model's predictions\u001b[0m\u001b[0;34m\u001b[0m\u001b[0;34m\u001b[0m\u001b[0m\n\u001b[1;32m      2\u001b[0m \u001b[0;31m# Assuming 'test_dataset' is already created\u001b[0m\u001b[0;34m\u001b[0m\u001b[0;34m\u001b[0m\u001b[0m\n\u001b[0;32m----> 3\u001b[0;31m \u001b[0mtest_loader\u001b[0m \u001b[0;34m=\u001b[0m \u001b[0mtorch\u001b[0m\u001b[0;34m.\u001b[0m\u001b[0mutils\u001b[0m\u001b[0;34m.\u001b[0m\u001b[0mdata\u001b[0m\u001b[0;34m.\u001b[0m\u001b[0mDataLoader\u001b[0m\u001b[0;34m(\u001b[0m\u001b[0mtest_dataset\u001b[0m\u001b[0;34m,\u001b[0m \u001b[0mbatch_size\u001b[0m\u001b[0;34m=\u001b[0m\u001b[0;36m64\u001b[0m\u001b[0;34m,\u001b[0m \u001b[0mshuffle\u001b[0m\u001b[0;34m=\u001b[0m\u001b[0;32mFalse\u001b[0m\u001b[0;34m)\u001b[0m\u001b[0;34m\u001b[0m\u001b[0;34m\u001b[0m\u001b[0m\n\u001b[0m\u001b[1;32m      4\u001b[0m \u001b[0;34m\u001b[0m\u001b[0m\n\u001b[1;32m      5\u001b[0m \u001b[0;31m# Define the predict function\u001b[0m\u001b[0;34m\u001b[0m\u001b[0;34m\u001b[0m\u001b[0m\n",
            "\u001b[0;31mNameError\u001b[0m: name 'test_dataset' is not defined"
          ]
        }
      ]
    },
    {
      "cell_type": "markdown",
      "source": [
        "Now that you have a list containing your predictions, you should create a file named \"{your_name}.json\", containing \"{id: predicted_label}\" pairs. A function to do this has been provided, just pass in the output of the predict function from the previous cell. You can find the file under the \"data\" folder by clicking on the folder icon in Colab, or in your working directory output in Kaggle"
      ],
      "metadata": {
        "id": "2kgHXoee2fQL"
      }
    },
    {
      "cell_type": "code",
      "source": [
        "import json\n",
        "def preds_to_json(preds):\n",
        "    json_dict = {}\n",
        "    for i, n in enumerate(preds):\n",
        "        json_dict[str('0000000'+str(i+1))[-8:]] = n\n",
        "    with open(os.path.join(root_dir,'your_name.json'), 'w', encoding='utf-8') as f:\n",
        "        #If you're using a Kaggle notebook, change root_dir to '/kaggle/working/'\n",
        "        json.dump(json_dict, f, ensure_ascii=False, indent=4)\n",
        "\n",
        "## 'test_preds' should be the output of 'predict' from the previous cell\n",
        "preds_to_json(test_preds)"
      ],
      "metadata": {
        "execution": {
          "iopub.execute_input": "2023-10-07T03:14:31.910276Z",
          "iopub.status.busy": "2023-10-07T03:14:31.909938Z",
          "iopub.status.idle": "2023-10-07T03:14:31.917337Z",
          "shell.execute_reply": "2023-10-07T03:14:31.916417Z",
          "shell.execute_reply.started": "2023-10-07T03:14:31.910247Z"
        },
        "id": "XpAuKsroS2iX",
        "colab": {
          "base_uri": "https://localhost:8080/",
          "height": 180
        },
        "outputId": "42182b7b-e138-4934-b9f9-1e762822bbbe"
      },
      "execution_count": 203,
      "outputs": [
        {
          "output_type": "error",
          "ename": "NameError",
          "evalue": "name 'test_preds' is not defined",
          "traceback": [
            "\u001b[0;31m---------------------------------------------------------------------------\u001b[0m",
            "\u001b[0;31mNameError\u001b[0m                                 Traceback (most recent call last)",
            "\u001b[0;32m<ipython-input-203-410c013876a7>\u001b[0m in \u001b[0;36m<cell line: 11>\u001b[0;34m()\u001b[0m\n\u001b[1;32m      9\u001b[0m \u001b[0;34m\u001b[0m\u001b[0m\n\u001b[1;32m     10\u001b[0m \u001b[0;31m## 'test_preds' should be the output of 'predict' from the previous cell\u001b[0m\u001b[0;34m\u001b[0m\u001b[0;34m\u001b[0m\u001b[0m\n\u001b[0;32m---> 11\u001b[0;31m \u001b[0mpreds_to_json\u001b[0m\u001b[0;34m(\u001b[0m\u001b[0mtest_preds\u001b[0m\u001b[0;34m)\u001b[0m\u001b[0;34m\u001b[0m\u001b[0;34m\u001b[0m\u001b[0m\n\u001b[0m",
            "\u001b[0;31mNameError\u001b[0m: name 'test_preds' is not defined"
          ]
        }
      ]
    },
    {
      "cell_type": "markdown",
      "source": [
        "### Model Architecture Explanation\n",
        "\n",
        "In the cell below, explain your model's architecture and how you came up with it. Feel free to include as many details as you want, including how you decided on a learning rate or data transformations."
      ],
      "metadata": {
        "id": "bYPqu_8qwdc5"
      }
    },
    {
      "cell_type": "markdown",
      "source": [
        "*TODO: Write your answer here*"
      ],
      "metadata": {
        "id": "5NPL4ZE5wfc3"
      }
    },
    {
      "cell_type": "markdown",
      "source": [
        "## You've Finished!!!\n",
        "\n",
        "Great job completing the assessment! The root directory for this notebook should now include the .json with your test predictions. In order to submit this assessment, all you have to do is email this notebook as an .ipynb and the .json to larrylu0302@g.ucla.edu\n",
        "\n",
        "Thanks for taking the time to work through these problems! I look forward to reading through your application. You should expect to hear back a few days after April 5th."
      ],
      "metadata": {
        "id": "2jFcq5U_wh1R"
      }
    }
  ]
}